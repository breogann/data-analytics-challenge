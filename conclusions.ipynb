{
 "cells": [
  {
   "cell_type": "markdown",
   "id": "2e0abaff",
   "metadata": {},
   "source": [
    "# Cobify consumption data conclusions"
   ]
  },
  {
   "cell_type": "markdown",
   "id": "4d0360f1",
   "metadata": {},
   "source": [
    "First, we import modules and clean data. We create dummies for each type of fuel."
   ]
  },
  {
   "cell_type": "code",
   "execution_count": 1,
   "id": "50b6ef55",
   "metadata": {},
   "outputs": [],
   "source": [
    "import pandas as pd\n",
    "import numpy as np\n",
    "import matplotlib.pyplot as plt\n",
    "import seaborn as sns\n",
    "\n",
    "from src.functions import *\n",
    "\n",
    "#%% Import data\n",
    "\n",
    "raw_df = pd.read_excel('data/measurements2.xlsx')\n",
    "\n",
    "#%% Clean data\n",
    "\n",
    "df = raw_df.copy()\n",
    "\n",
    "# Drop two last columns\n",
    "df = df.iloc[:, :-2]\n",
    "\n",
    "# Drop `specials` column\n",
    "df = df.drop('specials', axis = 1)\n",
    "\n",
    "# Create dummies for `gas_type`\n",
    "df = pd.get_dummies(df, columns = ['gas_type'])\n",
    "\n",
    "# Apply forward fill to `temp_inside`\n",
    "df['temp_inside'] = df['temp_inside'].fillna(method = 'ffill')\n",
    "\n",
    "# Create columns for speed squared\n",
    "df['speed2'] = df['speed'] ** 2"
   ]
  },
  {
   "cell_type": "markdown",
   "id": "a080577b",
   "metadata": {},
   "source": [
    "We assessed whether the fuel type impacts consumption. To do so, we perform multiple lineal regressions with several combinations of independent variables. All of the variables present in the final models have p-values under 0.05. For each model, the p-value of the hypothesis that there is a statistically significant difference between the coefficients of both fuels. To put it simply, we test whether one fuel makes the car cosume more."
   ]
  },
  {
   "cell_type": "code",
   "execution_count": 7,
   "id": "90963fbc",
   "metadata": {},
   "outputs": [
    {
     "data": {
      "image/png": "[encoded data removed]",
      "text/plain": [
       "<Figure size 432x288 with 1 Axes>"
      ]
     },
     "metadata": {
      "needs_background": "light"
     },
     "output_type": "display_data"
    }
   ],
   "source": [
    "#%% Tunned OLS models\n",
    "\n",
    "models = {\n",
    "    'speed_simple' : ['speed',\n",
    "            'gas_type_E10', \n",
    "            'gas_type_SP98',\n",
    "            ],\n",
    "    'speed_squared' : ['speed',\n",
    "            'speed2',\n",
    "            'gas_type_E10', \n",
    "            'gas_type_SP98',\n",
    "            ],\n",
    "    'temp_inside' : ['speed',\n",
    "            'speed2',\n",
    "            'gas_type_E10', \n",
    "            'gas_type_SP98',\n",
    "            'temp_inside'],\n",
    "    'rain' : ['speed',\n",
    "            'speed2',\n",
    "            'gas_type_E10', \n",
    "            'gas_type_SP98',\n",
    "            'temp_inside',\n",
    "            'rain']}\n",
    "\n",
    "models_dic = {} # Model name, p-value of hypothesis that consume is equal for each carburant\n",
    "\n",
    "# Compute all models, obtain results and save them in a dictionary\n",
    "for name, indep_vars in models.items():\n",
    "    dep_var = 'consume'\n",
    "    indep_var = indep_vars\n",
    "\n",
    "    reg = clean_reg(dep_var, indep_var, df,\n",
    "                    intercept = True)\n",
    "\n",
    "    models_dic[name] = {\n",
    "                        'E10' : round(reg.params['gas_type_E10'], 3),\n",
    "                        'SP98' : round(reg.params['gas_type_SP98'], 3),\n",
    "                        'pvalue' : round(float(reg.t_test('gas_type_E10 = gas_type_SP98').pvalue), 2)\n",
    "    }\n",
    "\n",
    "# Plot model results\n",
    "models_df = pd.DataFrame(models_dic)\n",
    "pvalues = models_df.loc['pvalue']\n",
    "\n",
    "hyp_pvalues = sns.barplot(x = models_df.columns, y = pvalues, color = '#006699');\n",
    "\n",
    "# Add a horizontal line at 0.05\n",
    "hyp_pvalues.axhline(y = 0.05, color = 'r', linestyle = '--')\n",
    "hyp_pvalues.set_title('P-values of hypothesis that E10 and SP98 are equal')\n",
    "hyp_pvalues.set_xlabel('Model')\n",
    "hyp_pvalues.set_ylabel('P-value');"
   ]
  },
  {
   "cell_type": "markdown",
   "id": "02e17a2a",
   "metadata": {},
   "source": [
    "The red dashed line represents the 0.05 threshold. As we can see, all bars break through this threshold, which means that, regardless of the model chosen, there is no way to prove that there is a difference in consumption. Nevertheless, the SP98 fuel presents slightly lower consumption in all models. \n",
    "\n",
    "Having no difference in consumption makes an argument supporting that we should opt for the E10 fuel due to its lower price."
   ]
  },
  {
   "cell_type": "markdown",
   "id": "e3bcc8f1",
   "metadata": {},
   "source": []
  }
 ],
 "metadata": {
  "interpreter": {
   "hash": "e570f9b335c1a791fe2cbb2552bc08c6e4dc410c514c87d189c872b38b29f491"
  },
  "kernelspec": {
   "display_name": "Python 3.9.7 64-bit",
   "language": "python",
   "name": "python3"
  },
  "language_info": {
   "codemirror_mode": {
    "name": "ipython",
    "version": 3
   },
   "file_extension": ".py",
   "mimetype": "text/x-python",
   "name": "python",
   "nbconvert_exporter": "python",
   "pygments_lexer": "ipython3",
   "version": "3.9.7"
  }
 },
 "nbformat": 4,
 "nbformat_minor": 5
}

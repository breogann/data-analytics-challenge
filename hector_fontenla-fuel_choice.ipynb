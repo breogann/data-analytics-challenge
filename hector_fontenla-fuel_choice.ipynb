{
 "cells": [
  {
   "cell_type": "markdown",
   "id": "7ccbd6a1",
   "metadata": {},
   "source": [
    "# Tech challenge"
   ]
  },
  {
   "cell_type": "markdown",
   "id": "8e5bdf0c",
   "metadata": {},
   "source": [
    "## What to do?\n",
    "\n",
    "**Exploratory data analysis**\n",
    "\n",
    "- Get to know the domain\n",
    "- Explore your data\n",
    "- Clean your data\n",
    "- Take a look and find connections between data\n",
    "   \n",
    "**Visualization**\n",
    "\n",
    "- Plot your data in a meaningful way\n",
    "\n",
    "**Predictions**\n",
    "\n",
    "- Do you have any hypothesis?\n",
    "- Can you make any kind of prediction: regression and/or classification?\n",
    "\n",
    "**Storytelling**\n",
    "\n",
    "- What metrics are you obtaining?\n",
    "- Explain your conclusions\n",
    "- Shape your new data and conclusions in such a way that is appealing to the listener and tells a story\n",
    "\n",
    "**Extra:**\n",
    "\n",
    "- **Enrich your dataset**\n",
    "\n",
    "\n",
    "    - Add value: obtain related data by web scraping or with APIs.\n",
    "    \n",
    "    \n",
    "- **Database**\n",
    "\n",
    "\n",
    "    - Load the processed information into a database"
   ]
  },
  {
   "cell_type": "markdown",
   "id": "d444839f",
   "metadata": {},
   "source": [
    "## Importing libraries"
   ]
  },
  {
   "cell_type": "code",
   "execution_count": 1,
   "id": "a9b2d209",
   "metadata": {
    "ExecuteTime": {
     "end_time": "2022-04-28T15:33:56.801569Z",
     "start_time": "2022-04-28T15:33:53.725365Z"
    }
   },
   "outputs": [],
   "source": [
    "import pandas as pd\n",
    "import numpy as np\n",
    "import klib\n",
    "import functions_WIP as functions\n",
    "import matplotlib.pyplot as plt\n",
    "import seaborn as sns\n",
    "%matplotlib inline"
   ]
  },
  {
   "cell_type": "markdown",
   "id": "1144160e",
   "metadata": {},
   "source": [
    "## Exploratory Data Analysis"
   ]
  },
  {
   "cell_type": "markdown",
   "id": "7a0ae3b6",
   "metadata": {},
   "source": [
    "### Reading the file and storing the DataFrame in a variable:"
   ]
  },
  {
   "cell_type": "code",
   "execution_count": 2,
   "id": "9145c85e",
   "metadata": {
    "ExecuteTime": {
     "end_time": "2022-04-28T15:33:56.846815Z",
     "start_time": "2022-04-28T15:33:56.805521Z"
    }
   },
   "outputs": [
    {
     "data": {
      "text/html": [
       "<div>\n",
       "<style scoped>\n",
       "    .dataframe tbody tr th:only-of-type {\n",
       "        vertical-align: middle;\n",
       "    }\n",
       "\n",
       "    .dataframe tbody tr th {\n",
       "        vertical-align: top;\n",
       "    }\n",
       "\n",
       "    .dataframe thead th {\n",
       "        text-align: right;\n",
       "    }\n",
       "</style>\n",
       "<table border=\"1\" class=\"dataframe\">\n",
       "  <thead>\n",
       "    <tr style=\"text-align: right;\">\n",
       "      <th></th>\n",
       "      <th>distance</th>\n",
       "      <th>consume</th>\n",
       "      <th>speed</th>\n",
       "      <th>temp_inside</th>\n",
       "      <th>temp_outside</th>\n",
       "      <th>specials</th>\n",
       "      <th>gas_type</th>\n",
       "      <th>AC</th>\n",
       "      <th>rain</th>\n",
       "      <th>sun</th>\n",
       "      <th>refill liters</th>\n",
       "      <th>refill gas</th>\n",
       "    </tr>\n",
       "  </thead>\n",
       "  <tbody>\n",
       "    <tr>\n",
       "      <th>0</th>\n",
       "      <td>28</td>\n",
       "      <td>5</td>\n",
       "      <td>26</td>\n",
       "      <td>21,5</td>\n",
       "      <td>12</td>\n",
       "      <td>NaN</td>\n",
       "      <td>E10</td>\n",
       "      <td>0</td>\n",
       "      <td>0</td>\n",
       "      <td>0</td>\n",
       "      <td>45</td>\n",
       "      <td>E10</td>\n",
       "    </tr>\n",
       "    <tr>\n",
       "      <th>1</th>\n",
       "      <td>12</td>\n",
       "      <td>4,2</td>\n",
       "      <td>30</td>\n",
       "      <td>21,5</td>\n",
       "      <td>13</td>\n",
       "      <td>NaN</td>\n",
       "      <td>E10</td>\n",
       "      <td>0</td>\n",
       "      <td>0</td>\n",
       "      <td>0</td>\n",
       "      <td>NaN</td>\n",
       "      <td>NaN</td>\n",
       "    </tr>\n",
       "    <tr>\n",
       "      <th>2</th>\n",
       "      <td>11,2</td>\n",
       "      <td>5,5</td>\n",
       "      <td>38</td>\n",
       "      <td>21,5</td>\n",
       "      <td>15</td>\n",
       "      <td>NaN</td>\n",
       "      <td>E10</td>\n",
       "      <td>0</td>\n",
       "      <td>0</td>\n",
       "      <td>0</td>\n",
       "      <td>NaN</td>\n",
       "      <td>NaN</td>\n",
       "    </tr>\n",
       "    <tr>\n",
       "      <th>3</th>\n",
       "      <td>12,9</td>\n",
       "      <td>3,9</td>\n",
       "      <td>36</td>\n",
       "      <td>21,5</td>\n",
       "      <td>14</td>\n",
       "      <td>NaN</td>\n",
       "      <td>E10</td>\n",
       "      <td>0</td>\n",
       "      <td>0</td>\n",
       "      <td>0</td>\n",
       "      <td>NaN</td>\n",
       "      <td>NaN</td>\n",
       "    </tr>\n",
       "    <tr>\n",
       "      <th>4</th>\n",
       "      <td>18,5</td>\n",
       "      <td>4,5</td>\n",
       "      <td>46</td>\n",
       "      <td>21,5</td>\n",
       "      <td>15</td>\n",
       "      <td>NaN</td>\n",
       "      <td>E10</td>\n",
       "      <td>0</td>\n",
       "      <td>0</td>\n",
       "      <td>0</td>\n",
       "      <td>NaN</td>\n",
       "      <td>NaN</td>\n",
       "    </tr>\n",
       "    <tr>\n",
       "      <th>...</th>\n",
       "      <td>...</td>\n",
       "      <td>...</td>\n",
       "      <td>...</td>\n",
       "      <td>...</td>\n",
       "      <td>...</td>\n",
       "      <td>...</td>\n",
       "      <td>...</td>\n",
       "      <td>...</td>\n",
       "      <td>...</td>\n",
       "      <td>...</td>\n",
       "      <td>...</td>\n",
       "      <td>...</td>\n",
       "    </tr>\n",
       "    <tr>\n",
       "      <th>383</th>\n",
       "      <td>16</td>\n",
       "      <td>3,7</td>\n",
       "      <td>39</td>\n",
       "      <td>24,5</td>\n",
       "      <td>18</td>\n",
       "      <td>NaN</td>\n",
       "      <td>SP98</td>\n",
       "      <td>0</td>\n",
       "      <td>0</td>\n",
       "      <td>0</td>\n",
       "      <td>NaN</td>\n",
       "      <td>NaN</td>\n",
       "    </tr>\n",
       "    <tr>\n",
       "      <th>384</th>\n",
       "      <td>16,1</td>\n",
       "      <td>4,3</td>\n",
       "      <td>38</td>\n",
       "      <td>25</td>\n",
       "      <td>31</td>\n",
       "      <td>AC</td>\n",
       "      <td>SP98</td>\n",
       "      <td>1</td>\n",
       "      <td>0</td>\n",
       "      <td>0</td>\n",
       "      <td>NaN</td>\n",
       "      <td>NaN</td>\n",
       "    </tr>\n",
       "    <tr>\n",
       "      <th>385</th>\n",
       "      <td>16</td>\n",
       "      <td>3,8</td>\n",
       "      <td>45</td>\n",
       "      <td>25</td>\n",
       "      <td>19</td>\n",
       "      <td>NaN</td>\n",
       "      <td>SP98</td>\n",
       "      <td>0</td>\n",
       "      <td>0</td>\n",
       "      <td>0</td>\n",
       "      <td>NaN</td>\n",
       "      <td>NaN</td>\n",
       "    </tr>\n",
       "    <tr>\n",
       "      <th>386</th>\n",
       "      <td>15,4</td>\n",
       "      <td>4,6</td>\n",
       "      <td>42</td>\n",
       "      <td>25</td>\n",
       "      <td>31</td>\n",
       "      <td>AC</td>\n",
       "      <td>SP98</td>\n",
       "      <td>1</td>\n",
       "      <td>0</td>\n",
       "      <td>0</td>\n",
       "      <td>NaN</td>\n",
       "      <td>NaN</td>\n",
       "    </tr>\n",
       "    <tr>\n",
       "      <th>387</th>\n",
       "      <td>14,7</td>\n",
       "      <td>5</td>\n",
       "      <td>25</td>\n",
       "      <td>25</td>\n",
       "      <td>30</td>\n",
       "      <td>AC</td>\n",
       "      <td>SP98</td>\n",
       "      <td>1</td>\n",
       "      <td>0</td>\n",
       "      <td>0</td>\n",
       "      <td>NaN</td>\n",
       "      <td>NaN</td>\n",
       "    </tr>\n",
       "  </tbody>\n",
       "</table>\n",
       "<p>388 rows × 12 columns</p>\n",
       "</div>"
      ],
      "text/plain": [
       "    distance consume  speed temp_inside  temp_outside specials gas_type  AC  \\\n",
       "0         28       5     26        21,5            12      NaN      E10   0   \n",
       "1         12     4,2     30        21,5            13      NaN      E10   0   \n",
       "2       11,2     5,5     38        21,5            15      NaN      E10   0   \n",
       "3       12,9     3,9     36        21,5            14      NaN      E10   0   \n",
       "4       18,5     4,5     46        21,5            15      NaN      E10   0   \n",
       "..       ...     ...    ...         ...           ...      ...      ...  ..   \n",
       "383       16     3,7     39        24,5            18      NaN     SP98   0   \n",
       "384     16,1     4,3     38          25            31       AC     SP98   1   \n",
       "385       16     3,8     45          25            19      NaN     SP98   0   \n",
       "386     15,4     4,6     42          25            31       AC     SP98   1   \n",
       "387     14,7       5     25          25            30       AC     SP98   1   \n",
       "\n",
       "     rain  sun refill liters refill gas  \n",
       "0       0    0            45        E10  \n",
       "1       0    0           NaN        NaN  \n",
       "2       0    0           NaN        NaN  \n",
       "3       0    0           NaN        NaN  \n",
       "4       0    0           NaN        NaN  \n",
       "..    ...  ...           ...        ...  \n",
       "383     0    0           NaN        NaN  \n",
       "384     0    0           NaN        NaN  \n",
       "385     0    0           NaN        NaN  \n",
       "386     0    0           NaN        NaN  \n",
       "387     0    0           NaN        NaN  \n",
       "\n",
       "[388 rows x 12 columns]"
      ]
     },
     "execution_count": 2,
     "metadata": {},
     "output_type": "execute_result"
    }
   ],
   "source": [
    "data = pd.read_csv('/Users/Hector_Martin/Documents/Data Analysis/Bootcamp/careerweek_challenge/data-analytics-challenge/data/measurements.csv')\n",
    "data"
   ]
  },
  {
   "cell_type": "markdown",
   "id": "1064cb86",
   "metadata": {},
   "source": [
    "### Making a copy of the DataFrame to work with it"
   ]
  },
  {
   "cell_type": "code",
   "execution_count": 3,
   "id": "cdf3e9be",
   "metadata": {
    "ExecuteTime": {
     "end_time": "2022-04-28T15:33:56.859326Z",
     "start_time": "2022-04-28T15:33:56.849670Z"
    }
   },
   "outputs": [],
   "source": [
    "fuel = data.copy()"
   ]
  },
  {
   "cell_type": "markdown",
   "id": "4cbf61d6",
   "metadata": {},
   "source": [
    "### Checking the Data Type and the NaN count per column:"
   ]
  },
  {
   "cell_type": "code",
   "execution_count": 4,
   "id": "c80d5762",
   "metadata": {
    "ExecuteTime": {
     "end_time": "2022-04-28T15:33:56.881641Z",
     "start_time": "2022-04-28T15:33:56.864539Z"
    }
   },
   "outputs": [
    {
     "name": "stdout",
     "output_type": "stream",
     "text": [
      "<class 'pandas.core.frame.DataFrame'>\n",
      "RangeIndex: 388 entries, 0 to 387\n",
      "Data columns (total 12 columns):\n",
      " #   Column         Non-Null Count  Dtype \n",
      "---  ------         --------------  ----- \n",
      " 0   distance       388 non-null    object\n",
      " 1   consume        388 non-null    object\n",
      " 2   speed          388 non-null    int64 \n",
      " 3   temp_inside    376 non-null    object\n",
      " 4   temp_outside   388 non-null    int64 \n",
      " 5   specials       93 non-null     object\n",
      " 6   gas_type       388 non-null    object\n",
      " 7   AC             388 non-null    int64 \n",
      " 8   rain           388 non-null    int64 \n",
      " 9   sun            388 non-null    int64 \n",
      " 10  refill liters  13 non-null     object\n",
      " 11  refill gas     13 non-null     object\n",
      "dtypes: int64(5), object(7)\n",
      "memory usage: 36.5+ KB\n"
     ]
    }
   ],
   "source": [
    "fuel.info()"
   ]
  },
  {
   "cell_type": "markdown",
   "id": "bd2d06c8",
   "metadata": {
    "ExecuteTime": {
     "end_time": "2022-04-28T14:47:58.321967Z",
     "start_time": "2022-04-28T14:47:58.318176Z"
    }
   },
   "source": [
    "### Checking the unique value counts per column, including the NaNs"
   ]
  },
  {
   "cell_type": "code",
   "execution_count": 5,
   "id": "075ba582",
   "metadata": {
    "ExecuteTime": {
     "end_time": "2022-04-28T15:33:56.908479Z",
     "start_time": "2022-04-28T15:33:56.884401Z"
    }
   },
   "outputs": [
    {
     "name": "stdout",
     "output_type": "stream",
     "text": [
      "distance 11,8    37\n",
      "16      24\n",
      "12,3    23\n",
      "12,4    18\n",
      "15,4    14\n",
      "        ..\n",
      "44,9     1\n",
      "36,6     1\n",
      "9,9      1\n",
      "16,8     1\n",
      "14,7     1\n",
      "Name: distance, Length: 174, dtype: int64\n",
      "consume 5       27\n",
      "4,5     27\n",
      "4,6     22\n",
      "4,7     21\n",
      "4,3     20\n",
      "4,1     20\n",
      "5,1     19\n",
      "4,8     19\n",
      "4,4     17\n",
      "4       17\n",
      "4,9     16\n",
      "4,2     15\n",
      "5,3     14\n",
      "3,9     14\n",
      "5,2     12\n",
      "3,8     11\n",
      "5,7     11\n",
      "5,6     10\n",
      "5,4      9\n",
      "3,7      8\n",
      "5,8      7\n",
      "5,5      6\n",
      "5,9      5\n",
      "3,6      4\n",
      "6,4      4\n",
      "6,1      4\n",
      "6,2      4\n",
      "6        4\n",
      "6,3      4\n",
      "8,1      2\n",
      "6,5      2\n",
      "7,4      2\n",
      "6,9      1\n",
      "8,7      1\n",
      "12,2     1\n",
      "7,9      1\n",
      "10,8     1\n",
      "9,9      1\n",
      "7,1      1\n",
      "3,3      1\n",
      "9        1\n",
      "11,5     1\n",
      "6,6      1\n",
      "Name: consume, dtype: int64\n",
      "speed 42    18\n",
      "43    17\n",
      "38    16\n",
      "26    15\n",
      "36    15\n",
      "33    15\n",
      "40    15\n",
      "32    12\n",
      "44    12\n",
      "37    12\n",
      "29    11\n",
      "39    11\n",
      "55    11\n",
      "46    11\n",
      "45    10\n",
      "58    10\n",
      "25    10\n",
      "24     9\n",
      "50     9\n",
      "35     9\n",
      "57     8\n",
      "41     8\n",
      "52     7\n",
      "53     6\n",
      "48     6\n",
      "28     6\n",
      "30     6\n",
      "21     6\n",
      "61     6\n",
      "51     6\n",
      "47     5\n",
      "56     5\n",
      "22     5\n",
      "34     4\n",
      "49     4\n",
      "27     4\n",
      "62     4\n",
      "59     3\n",
      "60     3\n",
      "54     3\n",
      "75     3\n",
      "23     3\n",
      "31     3\n",
      "80     3\n",
      "69     2\n",
      "16     2\n",
      "18     2\n",
      "71     2\n",
      "20     2\n",
      "82     2\n",
      "63     2\n",
      "14     1\n",
      "73     1\n",
      "66     1\n",
      "85     1\n",
      "67     1\n",
      "88     1\n",
      "65     1\n",
      "90     1\n",
      "87     1\n",
      "Name: speed, dtype: int64\n",
      "temp_inside 21,5    133\n",
      "22      102\n",
      "22,5     59\n",
      "20       25\n",
      "21       13\n",
      "23       13\n",
      "NaN      12\n",
      "25       12\n",
      "24,5      7\n",
      "20,5      4\n",
      "24        3\n",
      "23,5      2\n",
      "25,5      2\n",
      "19        1\n",
      "Name: temp_inside, dtype: int64\n",
      "temp_outside  8     31\n",
      " 10    31\n",
      " 7     28\n",
      " 6     21\n",
      " 9     20\n",
      " 11    20\n",
      " 18    19\n",
      " 12    17\n",
      " 4     17\n",
      " 17    16\n",
      " 16    16\n",
      " 15    14\n",
      " 13    14\n",
      " 14    13\n",
      " 3     13\n",
      " 5     13\n",
      " 1     12\n",
      " 0      9\n",
      " 21     9\n",
      " 2      7\n",
      " 23     7\n",
      " 24     7\n",
      " 19     5\n",
      " 27     5\n",
      " 26     4\n",
      " 31     3\n",
      " 25     3\n",
      " 20     3\n",
      " 30     3\n",
      " 22     3\n",
      "-3      2\n",
      " 28     2\n",
      "-5      1\n",
      "Name: temp_outside, dtype: int64\n",
      "specials NaN                   295\n",
      "rain                   32\n",
      "sun                    27\n",
      "AC rain                 9\n",
      "ac                      8\n",
      "AC                      6\n",
      "snow                    3\n",
      "sun ac                  3\n",
      "AC snow                 1\n",
      "half rain half sun      1\n",
      "AC sun                  1\n",
      "AC Sun                  1\n",
      "ac rain                 1\n",
      "Name: specials, dtype: int64\n",
      "gas_type SP98    228\n",
      "E10     160\n",
      "Name: gas_type, dtype: int64\n",
      "AC 0    358\n",
      "1     30\n",
      "Name: AC, dtype: int64\n",
      "rain 0    340\n",
      "1     48\n",
      "Name: rain, dtype: int64\n",
      "sun 0    356\n",
      "1     32\n",
      "Name: sun, dtype: int64\n",
      "refill liters NaN     375\n",
      "45        2\n",
      "37,7      2\n",
      "39        2\n",
      "37,6      1\n",
      "38        1\n",
      "38,3      1\n",
      "10        1\n",
      "41        1\n",
      "37        1\n",
      "37,2      1\n",
      "Name: refill liters, dtype: int64\n",
      "refill gas NaN     375\n",
      "SP98      8\n",
      "E10       5\n",
      "Name: refill gas, dtype: int64\n"
     ]
    }
   ],
   "source": [
    "for col in fuel.columns:\n",
    "    print(col, fuel[col].value_counts(dropna=False))"
   ]
  },
  {
   "cell_type": "markdown",
   "id": "05f79d82",
   "metadata": {},
   "source": [
    "### Transforming the Object variables into Numbers:\n",
    "\n",
    "These columns below appear as Object type when they are either Integer or Float. Let's fix that:\n",
    "\n",
    "- distance\n",
    "- column\n",
    "- temp_inside"
   ]
  },
  {
   "cell_type": "markdown",
   "id": "b5bb266e",
   "metadata": {
    "ExecuteTime": {
     "end_time": "2022-04-28T13:59:13.624042Z",
     "start_time": "2022-04-28T13:59:13.615667Z"
    }
   },
   "source": [
    "Due to the fact that some numbers contain a comma instead of a dot as a decimal separator, once the values are transformed become NaN. We will have to replace those separators before."
   ]
  },
  {
   "cell_type": "code",
   "execution_count": 6,
   "id": "02093abe",
   "metadata": {
    "ExecuteTime": {
     "end_time": "2022-04-28T15:33:56.915509Z",
     "start_time": "2022-04-28T15:33:56.911386Z"
    }
   },
   "outputs": [],
   "source": [
    "def properfloats(x):\n",
    "    if type(x) == str:\n",
    "        if ',' in x:\n",
    "            x = x.replace(',','.')\n",
    "        return x"
   ]
  },
  {
   "cell_type": "code",
   "execution_count": 7,
   "id": "c104e30e",
   "metadata": {
    "ExecuteTime": {
     "end_time": "2022-04-28T15:33:56.928390Z",
     "start_time": "2022-04-28T15:33:56.919166Z"
    }
   },
   "outputs": [],
   "source": [
    "#getting a list with the columns to transform\n",
    "cols_tonumbers = ['distance', 'consume', 'temp_inside']"
   ]
  },
  {
   "cell_type": "code",
   "execution_count": 8,
   "id": "ce3a1af1",
   "metadata": {
    "ExecuteTime": {
     "end_time": "2022-04-28T15:33:56.938366Z",
     "start_time": "2022-04-28T15:33:56.931630Z"
    }
   },
   "outputs": [],
   "source": [
    "for col in cols_tonumbers:\n",
    "    fuel[col] = fuel[col].apply(properfloats)"
   ]
  },
  {
   "cell_type": "code",
   "execution_count": 9,
   "id": "af65ec98",
   "metadata": {
    "ExecuteTime": {
     "end_time": "2022-04-28T15:33:56.949284Z",
     "start_time": "2022-04-28T15:33:56.943114Z"
    }
   },
   "outputs": [],
   "source": [
    "for col in cols_tonumbers:\n",
    "    fuel[col] = pd.to_numeric(fuel[col], errors = 'coerce')"
   ]
  },
  {
   "cell_type": "code",
   "execution_count": 10,
   "id": "a902df91",
   "metadata": {
    "ExecuteTime": {
     "end_time": "2022-04-28T15:33:56.994380Z",
     "start_time": "2022-04-28T15:33:56.970516Z"
    },
    "scrolled": true
   },
   "outputs": [
    {
     "data": {
      "text/html": [
       "<div>\n",
       "<style scoped>\n",
       "    .dataframe tbody tr th:only-of-type {\n",
       "        vertical-align: middle;\n",
       "    }\n",
       "\n",
       "    .dataframe tbody tr th {\n",
       "        vertical-align: top;\n",
       "    }\n",
       "\n",
       "    .dataframe thead th {\n",
       "        text-align: right;\n",
       "    }\n",
       "</style>\n",
       "<table border=\"1\" class=\"dataframe\">\n",
       "  <thead>\n",
       "    <tr style=\"text-align: right;\">\n",
       "      <th></th>\n",
       "      <th>distance</th>\n",
       "      <th>consume</th>\n",
       "      <th>speed</th>\n",
       "      <th>temp_inside</th>\n",
       "      <th>temp_outside</th>\n",
       "      <th>specials</th>\n",
       "      <th>gas_type</th>\n",
       "      <th>AC</th>\n",
       "      <th>rain</th>\n",
       "      <th>sun</th>\n",
       "      <th>refill liters</th>\n",
       "      <th>refill gas</th>\n",
       "    </tr>\n",
       "  </thead>\n",
       "  <tbody>\n",
       "    <tr>\n",
       "      <th>0</th>\n",
       "      <td>28.0</td>\n",
       "      <td>5.0</td>\n",
       "      <td>26</td>\n",
       "      <td>21.5</td>\n",
       "      <td>12</td>\n",
       "      <td>NaN</td>\n",
       "      <td>E10</td>\n",
       "      <td>0</td>\n",
       "      <td>0</td>\n",
       "      <td>0</td>\n",
       "      <td>45</td>\n",
       "      <td>E10</td>\n",
       "    </tr>\n",
       "    <tr>\n",
       "      <th>1</th>\n",
       "      <td>12.0</td>\n",
       "      <td>4.2</td>\n",
       "      <td>30</td>\n",
       "      <td>21.5</td>\n",
       "      <td>13</td>\n",
       "      <td>NaN</td>\n",
       "      <td>E10</td>\n",
       "      <td>0</td>\n",
       "      <td>0</td>\n",
       "      <td>0</td>\n",
       "      <td>NaN</td>\n",
       "      <td>NaN</td>\n",
       "    </tr>\n",
       "    <tr>\n",
       "      <th>2</th>\n",
       "      <td>11.2</td>\n",
       "      <td>5.5</td>\n",
       "      <td>38</td>\n",
       "      <td>21.5</td>\n",
       "      <td>15</td>\n",
       "      <td>NaN</td>\n",
       "      <td>E10</td>\n",
       "      <td>0</td>\n",
       "      <td>0</td>\n",
       "      <td>0</td>\n",
       "      <td>NaN</td>\n",
       "      <td>NaN</td>\n",
       "    </tr>\n",
       "    <tr>\n",
       "      <th>3</th>\n",
       "      <td>12.9</td>\n",
       "      <td>3.9</td>\n",
       "      <td>36</td>\n",
       "      <td>21.5</td>\n",
       "      <td>14</td>\n",
       "      <td>NaN</td>\n",
       "      <td>E10</td>\n",
       "      <td>0</td>\n",
       "      <td>0</td>\n",
       "      <td>0</td>\n",
       "      <td>NaN</td>\n",
       "      <td>NaN</td>\n",
       "    </tr>\n",
       "    <tr>\n",
       "      <th>4</th>\n",
       "      <td>18.5</td>\n",
       "      <td>4.5</td>\n",
       "      <td>46</td>\n",
       "      <td>21.5</td>\n",
       "      <td>15</td>\n",
       "      <td>NaN</td>\n",
       "      <td>E10</td>\n",
       "      <td>0</td>\n",
       "      <td>0</td>\n",
       "      <td>0</td>\n",
       "      <td>NaN</td>\n",
       "      <td>NaN</td>\n",
       "    </tr>\n",
       "    <tr>\n",
       "      <th>...</th>\n",
       "      <td>...</td>\n",
       "      <td>...</td>\n",
       "      <td>...</td>\n",
       "      <td>...</td>\n",
       "      <td>...</td>\n",
       "      <td>...</td>\n",
       "      <td>...</td>\n",
       "      <td>...</td>\n",
       "      <td>...</td>\n",
       "      <td>...</td>\n",
       "      <td>...</td>\n",
       "      <td>...</td>\n",
       "    </tr>\n",
       "    <tr>\n",
       "      <th>383</th>\n",
       "      <td>16.0</td>\n",
       "      <td>3.7</td>\n",
       "      <td>39</td>\n",
       "      <td>24.5</td>\n",
       "      <td>18</td>\n",
       "      <td>NaN</td>\n",
       "      <td>SP98</td>\n",
       "      <td>0</td>\n",
       "      <td>0</td>\n",
       "      <td>0</td>\n",
       "      <td>NaN</td>\n",
       "      <td>NaN</td>\n",
       "    </tr>\n",
       "    <tr>\n",
       "      <th>384</th>\n",
       "      <td>16.1</td>\n",
       "      <td>4.3</td>\n",
       "      <td>38</td>\n",
       "      <td>25.0</td>\n",
       "      <td>31</td>\n",
       "      <td>AC</td>\n",
       "      <td>SP98</td>\n",
       "      <td>1</td>\n",
       "      <td>0</td>\n",
       "      <td>0</td>\n",
       "      <td>NaN</td>\n",
       "      <td>NaN</td>\n",
       "    </tr>\n",
       "    <tr>\n",
       "      <th>385</th>\n",
       "      <td>16.0</td>\n",
       "      <td>3.8</td>\n",
       "      <td>45</td>\n",
       "      <td>25.0</td>\n",
       "      <td>19</td>\n",
       "      <td>NaN</td>\n",
       "      <td>SP98</td>\n",
       "      <td>0</td>\n",
       "      <td>0</td>\n",
       "      <td>0</td>\n",
       "      <td>NaN</td>\n",
       "      <td>NaN</td>\n",
       "    </tr>\n",
       "    <tr>\n",
       "      <th>386</th>\n",
       "      <td>15.4</td>\n",
       "      <td>4.6</td>\n",
       "      <td>42</td>\n",
       "      <td>25.0</td>\n",
       "      <td>31</td>\n",
       "      <td>AC</td>\n",
       "      <td>SP98</td>\n",
       "      <td>1</td>\n",
       "      <td>0</td>\n",
       "      <td>0</td>\n",
       "      <td>NaN</td>\n",
       "      <td>NaN</td>\n",
       "    </tr>\n",
       "    <tr>\n",
       "      <th>387</th>\n",
       "      <td>14.7</td>\n",
       "      <td>5.0</td>\n",
       "      <td>25</td>\n",
       "      <td>25.0</td>\n",
       "      <td>30</td>\n",
       "      <td>AC</td>\n",
       "      <td>SP98</td>\n",
       "      <td>1</td>\n",
       "      <td>0</td>\n",
       "      <td>0</td>\n",
       "      <td>NaN</td>\n",
       "      <td>NaN</td>\n",
       "    </tr>\n",
       "  </tbody>\n",
       "</table>\n",
       "<p>388 rows × 12 columns</p>\n",
       "</div>"
      ],
      "text/plain": [
       "     distance  consume  speed  temp_inside  temp_outside specials gas_type  \\\n",
       "0        28.0      5.0     26         21.5            12      NaN      E10   \n",
       "1        12.0      4.2     30         21.5            13      NaN      E10   \n",
       "2        11.2      5.5     38         21.5            15      NaN      E10   \n",
       "3        12.9      3.9     36         21.5            14      NaN      E10   \n",
       "4        18.5      4.5     46         21.5            15      NaN      E10   \n",
       "..        ...      ...    ...          ...           ...      ...      ...   \n",
       "383      16.0      3.7     39         24.5            18      NaN     SP98   \n",
       "384      16.1      4.3     38         25.0            31       AC     SP98   \n",
       "385      16.0      3.8     45         25.0            19      NaN     SP98   \n",
       "386      15.4      4.6     42         25.0            31       AC     SP98   \n",
       "387      14.7      5.0     25         25.0            30       AC     SP98   \n",
       "\n",
       "     AC  rain  sun refill liters refill gas  \n",
       "0     0     0    0            45        E10  \n",
       "1     0     0    0           NaN        NaN  \n",
       "2     0     0    0           NaN        NaN  \n",
       "3     0     0    0           NaN        NaN  \n",
       "4     0     0    0           NaN        NaN  \n",
       "..   ..   ...  ...           ...        ...  \n",
       "383   0     0    0           NaN        NaN  \n",
       "384   1     0    0           NaN        NaN  \n",
       "385   0     0    0           NaN        NaN  \n",
       "386   1     0    0           NaN        NaN  \n",
       "387   1     0    0           NaN        NaN  \n",
       "\n",
       "[388 rows x 12 columns]"
      ]
     },
     "execution_count": 10,
     "metadata": {},
     "output_type": "execute_result"
    }
   ],
   "source": [
    "fuel"
   ]
  },
  {
   "cell_type": "code",
   "execution_count": 11,
   "id": "2227d72b",
   "metadata": {
    "ExecuteTime": {
     "end_time": "2022-04-28T15:33:57.034408Z",
     "start_time": "2022-04-28T15:33:57.001202Z"
    }
   },
   "outputs": [
    {
     "data": {
      "text/plain": [
       "distance           0\n",
       "consume            0\n",
       "speed              0\n",
       "temp_inside       12\n",
       "temp_outside       0\n",
       "specials         295\n",
       "gas_type           0\n",
       "AC                 0\n",
       "rain               0\n",
       "sun                0\n",
       "refill liters    375\n",
       "refill gas       375\n",
       "dtype: int64"
      ]
     },
     "execution_count": 11,
     "metadata": {},
     "output_type": "execute_result"
    }
   ],
   "source": [
    "fuel.isna().sum()"
   ]
  },
  {
   "cell_type": "code",
   "execution_count": 12,
   "id": "1d22e29c",
   "metadata": {
    "ExecuteTime": {
     "end_time": "2022-04-28T15:33:57.061146Z",
     "start_time": "2022-04-28T15:33:57.050547Z"
    },
    "scrolled": true
   },
   "outputs": [
    {
     "data": {
      "text/plain": [
       "distance         float64\n",
       "consume          float64\n",
       "speed              int64\n",
       "temp_inside      float64\n",
       "temp_outside       int64\n",
       "specials          object\n",
       "gas_type          object\n",
       "AC                 int64\n",
       "rain               int64\n",
       "sun                int64\n",
       "refill liters     object\n",
       "refill gas        object\n",
       "dtype: object"
      ]
     },
     "execution_count": 12,
     "metadata": {},
     "output_type": "execute_result"
    }
   ],
   "source": [
    "fuel.dtypes"
   ]
  },
  {
   "cell_type": "markdown",
   "id": "f6c23e46",
   "metadata": {},
   "source": [
    "We can confirm that the columns are properly transformed and that there are no additional NaNs after the transformation"
   ]
  },
  {
   "cell_type": "code",
   "execution_count": 13,
   "id": "6da09dcb",
   "metadata": {
    "ExecuteTime": {
     "end_time": "2022-04-28T15:33:57.080841Z",
     "start_time": "2022-04-28T15:33:57.063492Z"
    }
   },
   "outputs": [
    {
     "data": {
      "text/plain": [
       "distance           0\n",
       "consume            0\n",
       "speed              0\n",
       "temp_inside       12\n",
       "temp_outside       0\n",
       "specials         295\n",
       "gas_type           0\n",
       "AC                 0\n",
       "rain               0\n",
       "sun                0\n",
       "refill liters    375\n",
       "refill gas       375\n",
       "dtype: int64"
      ]
     },
     "execution_count": 13,
     "metadata": {},
     "output_type": "execute_result"
    }
   ],
   "source": [
    "fuel.isna().sum()"
   ]
  },
  {
   "cell_type": "markdown",
   "id": "a96a98d7",
   "metadata": {},
   "source": [
    "So far, we can see that we will have to **remove the following columns** because these are **missing almost the entirety of the values**:\n",
    "\n",
    "- specials\n",
    "- refill liters\n",
    "- refill gas"
   ]
  },
  {
   "cell_type": "markdown",
   "id": "3fda85b8",
   "metadata": {},
   "source": [
    "### Removing columns due to the high amount of NaNs"
   ]
  },
  {
   "cell_type": "code",
   "execution_count": 14,
   "id": "d2c1992b",
   "metadata": {
    "ExecuteTime": {
     "end_time": "2022-04-28T15:33:57.095392Z",
     "start_time": "2022-04-28T15:33:57.086906Z"
    }
   },
   "outputs": [],
   "source": [
    "fuel = fuel.drop(['specials', 'refill liters', 'refill gas'], axis =1)"
   ]
  },
  {
   "cell_type": "markdown",
   "id": "83e005a7",
   "metadata": {},
   "source": [
    "### Dealing with the NaN values of column 'temp_inside'"
   ]
  },
  {
   "cell_type": "markdown",
   "id": "ca6b6e2d",
   "metadata": {},
   "source": [
    "#### Let's replace the NaN values by the mean of all values within the column:"
   ]
  },
  {
   "cell_type": "code",
   "execution_count": 15,
   "id": "95fdb555",
   "metadata": {
    "ExecuteTime": {
     "end_time": "2022-04-28T15:33:57.115034Z",
     "start_time": "2022-04-28T15:33:57.100865Z"
    }
   },
   "outputs": [],
   "source": [
    "fuel['temp_inside'] = fuel['temp_inside'].fillna(np.mean(fuel['temp_inside']))"
   ]
  },
  {
   "cell_type": "code",
   "execution_count": 16,
   "id": "d612de2c",
   "metadata": {
    "ExecuteTime": {
     "end_time": "2022-04-28T15:33:57.537741Z",
     "start_time": "2022-04-28T15:33:57.119832Z"
    }
   },
   "outputs": [
    {
     "data": {
      "image/png": "[encoded data removed]",
      "text/plain": [
       "<Figure size 360x360 with 1 Axes>"
      ]
     },
     "metadata": {
      "needs_background": "light"
     },
     "output_type": "display_data"
    }
   ],
   "source": [
    "sns.displot(fuel['temp_inside'])\n",
    "plt.show()"
   ]
  },
  {
   "cell_type": "markdown",
   "id": "f176a65a",
   "metadata": {},
   "source": [
    "### Checking the Distribution on all Numerical columns:"
   ]
  },
  {
   "cell_type": "code",
   "execution_count": 17,
   "id": "081fe6fe",
   "metadata": {
    "ExecuteTime": {
     "end_time": "2022-04-28T15:34:00.372962Z",
     "start_time": "2022-04-28T15:33:57.541207Z"
    }
   },
   "outputs": [
    {
     "data": {
      "image/png": "[encoded data removed]",
      "text/plain": [
       "<Figure size 438.5x360 with 1 Axes>"
      ]
     },
     "metadata": {
      "needs_background": "light"
     },
     "output_type": "display_data"
    },
    {
     "data": {
      "image/png": "[encoded data removed]",
      "text/plain": [
       "<Figure size 441.25x360 with 1 Axes>"
      ]
     },
     "metadata": {
      "needs_background": "light"
     },
     "output_type": "display_data"
    },
    {
     "data": {
      "image/png": "[encoded data removed]",
      "text/plain": [
       "<Figure size 426.125x360 with 1 Axes>"
      ]
     },
     "metadata": {
      "needs_background": "light"
     },
     "output_type": "display_data"
    },
    {
     "data": {
      "image/png": "[encoded data removed]",
      "text/plain": [
       "<Figure size 456.75x360 with 1 Axes>"
      ]
     },
     "metadata": {
      "needs_background": "light"
     },
     "output_type": "display_data"
    },
    {
     "data": {
      "image/png": "[encoded data removed]",
      "text/plain": [
       "<Figure size 463.75x360 with 1 Axes>"
      ]
     },
     "metadata": {
      "needs_background": "light"
     },
     "output_type": "display_data"
    },
    {
     "data": {
      "image/png": "[encoded data removed]",
      "text/plain": [
       "<Figure size 409.625x360 with 1 Axes>"
      ]
     },
     "metadata": {
      "needs_background": "light"
     },
     "output_type": "display_data"
    },
    {
     "data": {
      "image/png": "[encoded data removed]",
      "text/plain": [
       "<Figure size 415.5x360 with 1 Axes>"
      ]
     },
     "metadata": {
      "needs_background": "light"
     },
     "output_type": "display_data"
    },
    {
     "data": {
      "image/png": "[encoded data removed]",
      "text/plain": [
       "<Figure size 414x360 with 1 Axes>"
      ]
     },
     "metadata": {
      "needs_background": "light"
     },
     "output_type": "display_data"
    }
   ],
   "source": [
    "functions.plot_num(fuel)"
   ]
  },
  {
   "cell_type": "code",
   "execution_count": 18,
   "id": "15d27130",
   "metadata": {
    "ExecuteTime": {
     "end_time": "2022-04-28T15:34:01.300295Z",
     "start_time": "2022-04-28T15:34:00.376541Z"
    }
   },
   "outputs": [
    {
     "data": {
      "image/png": "[encoded data removed]",
      "text/plain": [
       "<Figure size 432x288 with 1 Axes>"
      ]
     },
     "metadata": {
      "needs_background": "light"
     },
     "output_type": "display_data"
    },
    {
     "data": {
      "image/png": "[encoded data removed]",
      "text/plain": [
       "<Figure size 432x288 with 1 Axes>"
      ]
     },
     "metadata": {
      "needs_background": "light"
     },
     "output_type": "display_data"
    },
    {
     "data": {
      "image/png": "[encoded data removed]",
      "text/plain": [
       "<Figure size 432x288 with 1 Axes>"
      ]
     },
     "metadata": {
      "needs_background": "light"
     },
     "output_type": "display_data"
    },
    {
     "data": {
      "image/png": "[encoded data removed]",
      "text/plain": [
       "<Figure size 432x288 with 1 Axes>"
      ]
     },
     "metadata": {
      "needs_background": "light"
     },
     "output_type": "display_data"
    },
    {
     "data": {
      "image/png": "[encoded data removed]",
      "text/plain": [
       "<Figure size 432x288 with 1 Axes>"
      ]
     },
     "metadata": {
      "needs_background": "light"
     },
     "output_type": "display_data"
    },
    {
     "data": {
      "image/png": "[encoded data removed]",
      "text/plain": [
       "<Figure size 432x288 with 1 Axes>"
      ]
     },
     "metadata": {
      "needs_background": "light"
     },
     "output_type": "display_data"
    },
    {
     "data": {
      "image/png": "[encoded data removed]",
      "text/plain": [
       "<Figure size 432x288 with 1 Axes>"
      ]
     },
     "metadata": {
      "needs_background": "light"
     },
     "output_type": "display_data"
    },
    {
     "data": {
      "image/png": "[encoded data removed]",
      "text/plain": [
       "<Figure size 432x288 with 1 Axes>"
      ]
     },
     "metadata": {
      "needs_background": "light"
     },
     "output_type": "display_data"
    }
   ],
   "source": [
    "functions.boxplotting(fuel)"
   ]
  },
  {
   "cell_type": "markdown",
   "id": "38877c17",
   "metadata": {},
   "source": [
    "### Removing Outliers:"
   ]
  },
  {
   "cell_type": "markdown",
   "id": "12d23a51",
   "metadata": {},
   "source": [
    "We will have to remove Outliers from the following Continuous Numerical columns, the rest of them are Discrete."
   ]
  },
  {
   "cell_type": "code",
   "execution_count": 19,
   "id": "6e8d6fbf",
   "metadata": {
    "ExecuteTime": {
     "end_time": "2022-04-28T15:34:01.315548Z",
     "start_time": "2022-04-28T15:34:01.305347Z"
    }
   },
   "outputs": [],
   "source": [
    "cols_outliers = ['distance', 'consume', 'speed', 'temp_inside', 'temp_outside']"
   ]
  },
  {
   "cell_type": "markdown",
   "id": "0a2c250e",
   "metadata": {},
   "source": [
    "#### Applying the function to remove Outliers:"
   ]
  },
  {
   "cell_type": "code",
   "execution_count": 20,
   "id": "d1abf887",
   "metadata": {
    "ExecuteTime": {
     "end_time": "2022-04-28T15:34:02.671919Z",
     "start_time": "2022-04-28T15:34:01.319065Z"
    }
   },
   "outputs": [
    {
     "data": {
      "image/png": "[encoded data removed]",
      "text/plain": [
       "<Figure size 360x360 with 1 Axes>"
      ]
     },
     "metadata": {
      "needs_background": "light"
     },
     "output_type": "display_data"
    },
    {
     "data": {
      "image/png": "[encoded data removed]",
      "text/plain": [
       "<Figure size 360x360 with 1 Axes>"
      ]
     },
     "metadata": {
      "needs_background": "light"
     },
     "output_type": "display_data"
    },
    {
     "data": {
      "image/png": "[encoded data removed]",
      "text/plain": [
       "<Figure size 360x360 with 1 Axes>"
      ]
     },
     "metadata": {
      "needs_background": "light"
     },
     "output_type": "display_data"
    },
    {
     "data": {
      "image/png": "[encoded data removed]",
      "text/plain": [
       "<Figure size 360x360 with 1 Axes>"
      ]
     },
     "metadata": {
      "needs_background": "light"
     },
     "output_type": "display_data"
    },
    {
     "data": {
      "image/png": "[encoded data removed]",
      "text/plain": [
       "<Figure size 360x360 with 1 Axes>"
      ]
     },
     "metadata": {
      "needs_background": "light"
     },
     "output_type": "display_data"
    }
   ],
   "source": [
    "fuel = functions.outliers_out(fuel, cols_outliers)"
   ]
  },
  {
   "cell_type": "code",
   "execution_count": 21,
   "id": "acc409bc",
   "metadata": {
    "ExecuteTime": {
     "end_time": "2022-04-28T15:34:02.687043Z",
     "start_time": "2022-04-28T15:34:02.676204Z"
    }
   },
   "outputs": [
    {
     "data": {
      "text/plain": [
       "(282, 9)"
      ]
     },
     "execution_count": 21,
     "metadata": {},
     "output_type": "execute_result"
    }
   ],
   "source": [
    "#Current shape after removing Outliers\n",
    "fuel.shape"
   ]
  },
  {
   "cell_type": "code",
   "execution_count": 22,
   "id": "bb1523e5",
   "metadata": {
    "ExecuteTime": {
     "end_time": "2022-04-28T15:34:02.718888Z",
     "start_time": "2022-04-28T15:34:02.692192Z"
    }
   },
   "outputs": [
    {
     "data": {
      "text/plain": [
       "(388, 12)"
      ]
     },
     "execution_count": 22,
     "metadata": {},
     "output_type": "execute_result"
    }
   ],
   "source": [
    "#Comparing with the Original dataframe\n",
    "data.shape"
   ]
  },
  {
   "cell_type": "markdown",
   "id": "12f10d95",
   "metadata": {},
   "source": [
    "We have lost 106 rows but I believe that our model will benefit greatly from this, being more accurate at predicting the rest of the values, the distribution looks way more Gaussian now."
   ]
  },
  {
   "cell_type": "markdown",
   "id": "3fe05ad1",
   "metadata": {},
   "source": [
    "### Plotting a Countplot for the Categorical one:"
   ]
  },
  {
   "cell_type": "code",
   "execution_count": 23,
   "id": "2d23dd22",
   "metadata": {
    "ExecuteTime": {
     "end_time": "2022-04-28T15:34:02.906629Z",
     "start_time": "2022-04-28T15:34:02.722489Z"
    },
    "scrolled": false
   },
   "outputs": [
    {
     "data": {
      "image/png": "[encoded data removed]",
      "text/plain": [
       "<Figure size 864x288 with 1 Axes>"
      ]
     },
     "metadata": {
      "needs_background": "light"
     },
     "output_type": "display_data"
    }
   ],
   "source": [
    "functions.countplot(fuel)"
   ]
  },
  {
   "cell_type": "markdown",
   "id": "c7a70a99",
   "metadata": {},
   "source": [
    "We can observe a slight Class imbalance, we will fix it later"
   ]
  },
  {
   "cell_type": "markdown",
   "id": "40d9a2ec",
   "metadata": {},
   "source": [
    "### X - y Split:\n",
    "\n",
    "Since we are going to find out which is the best Gas type, let's define our Independent and Dependent variables"
   ]
  },
  {
   "cell_type": "code",
   "execution_count": 24,
   "id": "c49c5978",
   "metadata": {
    "ExecuteTime": {
     "end_time": "2022-04-28T15:34:02.917662Z",
     "start_time": "2022-04-28T15:34:02.910099Z"
    }
   },
   "outputs": [],
   "source": [
    "X = fuel.drop(['gas_type'], axis =1)\n",
    "y = fuel[['gas_type']]"
   ]
  },
  {
   "cell_type": "markdown",
   "id": "2886673b",
   "metadata": {},
   "source": [
    "### Train-Test Split:"
   ]
  },
  {
   "cell_type": "code",
   "execution_count": 25,
   "id": "4195d482",
   "metadata": {
    "ExecuteTime": {
     "end_time": "2022-04-28T15:34:02.935223Z",
     "start_time": "2022-04-28T15:34:02.922936Z"
    }
   },
   "outputs": [],
   "source": [
    "from sklearn.model_selection import train_test_split\n",
    "\n",
    "X_train, X_test, y_train, y_test = train_test_split(X, y, test_size=0.2, random_state=70)"
   ]
  },
  {
   "cell_type": "code",
   "execution_count": 26,
   "id": "c21cf1d5",
   "metadata": {
    "ExecuteTime": {
     "end_time": "2022-04-28T15:34:02.951273Z",
     "start_time": "2022-04-28T15:34:02.942893Z"
    }
   },
   "outputs": [],
   "source": [
    "#Transform NUMPY ARRAYS into dataframes\n",
    "\n",
    "X_train_df = pd.DataFrame(X_train, columns=X.columns)\n",
    "X_test_df  = pd.DataFrame(X_test,columns=X.columns)"
   ]
  },
  {
   "cell_type": "markdown",
   "id": "44bd6b98",
   "metadata": {},
   "source": [
    "We do not have any Object type column for this reason we will not make any Categorical and Numerical split."
   ]
  },
  {
   "cell_type": "markdown",
   "id": "4a051c77",
   "metadata": {},
   "source": [
    "#### Creating a copy of each DataFrame for Data Wrangling:"
   ]
  },
  {
   "cell_type": "code",
   "execution_count": 27,
   "id": "25641e66",
   "metadata": {
    "ExecuteTime": {
     "end_time": "2022-04-28T15:34:02.960828Z",
     "start_time": "2022-04-28T15:34:02.954578Z"
    }
   },
   "outputs": [],
   "source": [
    "X_train_df = X_train_df.copy()\n",
    "X_test_df = X_test_df.copy()"
   ]
  },
  {
   "cell_type": "markdown",
   "id": "8c88e948",
   "metadata": {},
   "source": [
    "### Scaling variables with StandardScaler:"
   ]
  },
  {
   "cell_type": "code",
   "execution_count": 28,
   "id": "68271e15",
   "metadata": {
    "ExecuteTime": {
     "end_time": "2022-04-28T15:34:03.043622Z",
     "start_time": "2022-04-28T15:34:02.973901Z"
    }
   },
   "outputs": [
    {
     "name": "stdout",
     "output_type": "stream",
     "text": [
      "DataFrame for X_train:\n",
      "-----------------------\n",
      "\n"
     ]
    },
    {
     "data": {
      "text/html": [
       "<div>\n",
       "<style scoped>\n",
       "    .dataframe tbody tr th:only-of-type {\n",
       "        vertical-align: middle;\n",
       "    }\n",
       "\n",
       "    .dataframe tbody tr th {\n",
       "        vertical-align: top;\n",
       "    }\n",
       "\n",
       "    .dataframe thead th {\n",
       "        text-align: right;\n",
       "    }\n",
       "</style>\n",
       "<table border=\"1\" class=\"dataframe\">\n",
       "  <thead>\n",
       "    <tr style=\"text-align: right;\">\n",
       "      <th></th>\n",
       "      <th>distance</th>\n",
       "      <th>consume</th>\n",
       "      <th>speed</th>\n",
       "      <th>temp_inside</th>\n",
       "      <th>temp_outside</th>\n",
       "      <th>AC</th>\n",
       "      <th>rain</th>\n",
       "      <th>sun</th>\n",
       "    </tr>\n",
       "  </thead>\n",
       "  <tbody>\n",
       "    <tr>\n",
       "      <th>135</th>\n",
       "      <td>0.511156</td>\n",
       "      <td>0.453932</td>\n",
       "      <td>-0.923588</td>\n",
       "      <td>-0.769618</td>\n",
       "      <td>-0.838090</td>\n",
       "      <td>-0.192006</td>\n",
       "      <td>-0.361460</td>\n",
       "      <td>-0.267261</td>\n",
       "    </tr>\n",
       "    <tr>\n",
       "      <th>141</th>\n",
       "      <td>-0.431853</td>\n",
       "      <td>0.878903</td>\n",
       "      <td>1.693869</td>\n",
       "      <td>-0.769618</td>\n",
       "      <td>0.390381</td>\n",
       "      <td>-0.192006</td>\n",
       "      <td>-0.361460</td>\n",
       "      <td>-0.267261</td>\n",
       "    </tr>\n",
       "    <tr>\n",
       "      <th>361</th>\n",
       "      <td>0.252291</td>\n",
       "      <td>-0.962638</td>\n",
       "      <td>0.478621</td>\n",
       "      <td>0.283374</td>\n",
       "      <td>0.697499</td>\n",
       "      <td>-0.192006</td>\n",
       "      <td>-0.361460</td>\n",
       "      <td>-0.267261</td>\n",
       "    </tr>\n",
       "    <tr>\n",
       "      <th>139</th>\n",
       "      <td>0.270781</td>\n",
       "      <td>0.878903</td>\n",
       "      <td>-1.484472</td>\n",
       "      <td>-0.769618</td>\n",
       "      <td>-0.530973</td>\n",
       "      <td>-0.192006</td>\n",
       "      <td>2.766559</td>\n",
       "      <td>-0.267261</td>\n",
       "    </tr>\n",
       "    <tr>\n",
       "      <th>282</th>\n",
       "      <td>0.252291</td>\n",
       "      <td>-1.387609</td>\n",
       "      <td>0.011218</td>\n",
       "      <td>0.283374</td>\n",
       "      <td>-0.377414</td>\n",
       "      <td>-0.192006</td>\n",
       "      <td>-0.361460</td>\n",
       "      <td>-0.267261</td>\n",
       "    </tr>\n",
       "    <tr>\n",
       "      <th>...</th>\n",
       "      <td>...</td>\n",
       "      <td>...</td>\n",
       "      <td>...</td>\n",
       "      <td>...</td>\n",
       "      <td>...</td>\n",
       "      <td>...</td>\n",
       "      <td>...</td>\n",
       "      <td>...</td>\n",
       "    </tr>\n",
       "    <tr>\n",
       "      <th>368</th>\n",
       "      <td>0.252291</td>\n",
       "      <td>-1.104295</td>\n",
       "      <td>0.291659</td>\n",
       "      <td>0.283374</td>\n",
       "      <td>1.618852</td>\n",
       "      <td>5.208167</td>\n",
       "      <td>-0.361460</td>\n",
       "      <td>-0.267261</td>\n",
       "    </tr>\n",
       "    <tr>\n",
       "      <th>150</th>\n",
       "      <td>0.400214</td>\n",
       "      <td>-1.104295</td>\n",
       "      <td>0.572101</td>\n",
       "      <td>-0.769618</td>\n",
       "      <td>-0.377414</td>\n",
       "      <td>-0.192006</td>\n",
       "      <td>-0.361460</td>\n",
       "      <td>-0.267261</td>\n",
       "    </tr>\n",
       "    <tr>\n",
       "      <th>66</th>\n",
       "      <td>-0.524305</td>\n",
       "      <td>-0.254353</td>\n",
       "      <td>0.104698</td>\n",
       "      <td>-0.769618</td>\n",
       "      <td>-0.684531</td>\n",
       "      <td>-0.192006</td>\n",
       "      <td>-0.361460</td>\n",
       "      <td>-0.267261</td>\n",
       "    </tr>\n",
       "    <tr>\n",
       "      <th>144</th>\n",
       "      <td>-0.524305</td>\n",
       "      <td>-0.962638</td>\n",
       "      <td>-0.269224</td>\n",
       "      <td>-0.769618</td>\n",
       "      <td>-0.070296</td>\n",
       "      <td>-0.192006</td>\n",
       "      <td>-0.361460</td>\n",
       "      <td>-0.267261</td>\n",
       "    </tr>\n",
       "    <tr>\n",
       "      <th>287</th>\n",
       "      <td>2.619057</td>\n",
       "      <td>-1.245952</td>\n",
       "      <td>-0.456185</td>\n",
       "      <td>0.283374</td>\n",
       "      <td>0.697499</td>\n",
       "      <td>-0.192006</td>\n",
       "      <td>-0.361460</td>\n",
       "      <td>3.741657</td>\n",
       "    </tr>\n",
       "  </tbody>\n",
       "</table>\n",
       "<p>225 rows × 8 columns</p>\n",
       "</div>"
      ],
      "text/plain": [
       "     distance   consume     speed  temp_inside  temp_outside        AC  \\\n",
       "135  0.511156  0.453932 -0.923588    -0.769618     -0.838090 -0.192006   \n",
       "141 -0.431853  0.878903  1.693869    -0.769618      0.390381 -0.192006   \n",
       "361  0.252291 -0.962638  0.478621     0.283374      0.697499 -0.192006   \n",
       "139  0.270781  0.878903 -1.484472    -0.769618     -0.530973 -0.192006   \n",
       "282  0.252291 -1.387609  0.011218     0.283374     -0.377414 -0.192006   \n",
       "..        ...       ...       ...          ...           ...       ...   \n",
       "368  0.252291 -1.104295  0.291659     0.283374      1.618852  5.208167   \n",
       "150  0.400214 -1.104295  0.572101    -0.769618     -0.377414 -0.192006   \n",
       "66  -0.524305 -0.254353  0.104698    -0.769618     -0.684531 -0.192006   \n",
       "144 -0.524305 -0.962638 -0.269224    -0.769618     -0.070296 -0.192006   \n",
       "287  2.619057 -1.245952 -0.456185     0.283374      0.697499 -0.192006   \n",
       "\n",
       "         rain       sun  \n",
       "135 -0.361460 -0.267261  \n",
       "141 -0.361460 -0.267261  \n",
       "361 -0.361460 -0.267261  \n",
       "139  2.766559 -0.267261  \n",
       "282 -0.361460 -0.267261  \n",
       "..        ...       ...  \n",
       "368 -0.361460 -0.267261  \n",
       "150 -0.361460 -0.267261  \n",
       "66  -0.361460 -0.267261  \n",
       "144 -0.361460 -0.267261  \n",
       "287 -0.361460  3.741657  \n",
       "\n",
       "[225 rows x 8 columns]"
      ]
     },
     "metadata": {},
     "output_type": "display_data"
    },
    {
     "name": "stdout",
     "output_type": "stream",
     "text": [
      "DataFrame for X_test:\n",
      "-----------------------\n",
      "\n"
     ]
    },
    {
     "data": {
      "text/html": [
       "<div>\n",
       "<style scoped>\n",
       "    .dataframe tbody tr th:only-of-type {\n",
       "        vertical-align: middle;\n",
       "    }\n",
       "\n",
       "    .dataframe tbody tr th {\n",
       "        vertical-align: top;\n",
       "    }\n",
       "\n",
       "    .dataframe thead th {\n",
       "        text-align: right;\n",
       "    }\n",
       "</style>\n",
       "<table border=\"1\" class=\"dataframe\">\n",
       "  <thead>\n",
       "    <tr style=\"text-align: right;\">\n",
       "      <th></th>\n",
       "      <th>distance</th>\n",
       "      <th>consume</th>\n",
       "      <th>speed</th>\n",
       "      <th>temp_inside</th>\n",
       "      <th>temp_outside</th>\n",
       "      <th>AC</th>\n",
       "      <th>rain</th>\n",
       "      <th>sun</th>\n",
       "    </tr>\n",
       "  </thead>\n",
       "  <tbody>\n",
       "    <tr>\n",
       "      <th>237</th>\n",
       "      <td>-0.062045</td>\n",
       "      <td>0.028961</td>\n",
       "      <td>-0.362705</td>\n",
       "      <td>1.336366</td>\n",
       "      <td>-0.070296</td>\n",
       "      <td>-0.192006</td>\n",
       "      <td>-0.361460</td>\n",
       "      <td>-0.267261</td>\n",
       "    </tr>\n",
       "    <tr>\n",
       "      <th>146</th>\n",
       "      <td>1.139828</td>\n",
       "      <td>-0.396010</td>\n",
       "      <td>0.478621</td>\n",
       "      <td>-0.769618</td>\n",
       "      <td>-0.070296</td>\n",
       "      <td>-0.192006</td>\n",
       "      <td>-0.361460</td>\n",
       "      <td>-0.267261</td>\n",
       "    </tr>\n",
       "    <tr>\n",
       "      <th>12</th>\n",
       "      <td>-0.431853</td>\n",
       "      <td>1.587188</td>\n",
       "      <td>1.787349</td>\n",
       "      <td>-0.769618</td>\n",
       "      <td>-0.070296</td>\n",
       "      <td>-0.192006</td>\n",
       "      <td>-0.361460</td>\n",
       "      <td>-0.267261</td>\n",
       "    </tr>\n",
       "    <tr>\n",
       "      <th>246</th>\n",
       "      <td>-0.302420</td>\n",
       "      <td>1.303874</td>\n",
       "      <td>-0.269224</td>\n",
       "      <td>1.336366</td>\n",
       "      <td>0.083263</td>\n",
       "      <td>-0.192006</td>\n",
       "      <td>2.766559</td>\n",
       "      <td>-0.267261</td>\n",
       "    </tr>\n",
       "    <tr>\n",
       "      <th>257</th>\n",
       "      <td>-0.413362</td>\n",
       "      <td>-0.112696</td>\n",
       "      <td>1.413427</td>\n",
       "      <td>1.336366</td>\n",
       "      <td>0.543940</td>\n",
       "      <td>-0.192006</td>\n",
       "      <td>-0.361460</td>\n",
       "      <td>3.741657</td>\n",
       "    </tr>\n",
       "    <tr>\n",
       "      <th>365</th>\n",
       "      <td>0.141349</td>\n",
       "      <td>-0.396010</td>\n",
       "      <td>1.132985</td>\n",
       "      <td>0.283374</td>\n",
       "      <td>2.386647</td>\n",
       "      <td>-0.192006</td>\n",
       "      <td>-0.361460</td>\n",
       "      <td>-0.267261</td>\n",
       "    </tr>\n",
       "    <tr>\n",
       "      <th>17</th>\n",
       "      <td>-0.524305</td>\n",
       "      <td>0.453932</td>\n",
       "      <td>-0.736627</td>\n",
       "      <td>-0.769618</td>\n",
       "      <td>-1.145208</td>\n",
       "      <td>-0.192006</td>\n",
       "      <td>-0.361460</td>\n",
       "      <td>-0.267261</td>\n",
       "    </tr>\n",
       "    <tr>\n",
       "      <th>177</th>\n",
       "      <td>-0.099026</td>\n",
       "      <td>0.737246</td>\n",
       "      <td>0.665582</td>\n",
       "      <td>-1.822609</td>\n",
       "      <td>-2.066562</td>\n",
       "      <td>-0.192006</td>\n",
       "      <td>-0.361460</td>\n",
       "      <td>-0.267261</td>\n",
       "    </tr>\n",
       "    <tr>\n",
       "      <th>22</th>\n",
       "      <td>0.603608</td>\n",
       "      <td>1.303874</td>\n",
       "      <td>-0.269224</td>\n",
       "      <td>-0.769618</td>\n",
       "      <td>-1.452326</td>\n",
       "      <td>-0.192006</td>\n",
       "      <td>-0.361460</td>\n",
       "      <td>-0.267261</td>\n",
       "    </tr>\n",
       "    <tr>\n",
       "      <th>239</th>\n",
       "      <td>0.418704</td>\n",
       "      <td>-0.396010</td>\n",
       "      <td>0.759063</td>\n",
       "      <td>1.336366</td>\n",
       "      <td>-0.223855</td>\n",
       "      <td>-0.192006</td>\n",
       "      <td>-0.361460</td>\n",
       "      <td>3.741657</td>\n",
       "    </tr>\n",
       "    <tr>\n",
       "      <th>310</th>\n",
       "      <td>0.751531</td>\n",
       "      <td>-1.104295</td>\n",
       "      <td>1.880830</td>\n",
       "      <td>0.283374</td>\n",
       "      <td>0.390381</td>\n",
       "      <td>-0.192006</td>\n",
       "      <td>-0.361460</td>\n",
       "      <td>-0.267261</td>\n",
       "    </tr>\n",
       "    <tr>\n",
       "      <th>197</th>\n",
       "      <td>2.508115</td>\n",
       "      <td>-0.254353</td>\n",
       "      <td>1.319946</td>\n",
       "      <td>-0.769618</td>\n",
       "      <td>0.543940</td>\n",
       "      <td>-0.192006</td>\n",
       "      <td>-0.361460</td>\n",
       "      <td>-0.267261</td>\n",
       "    </tr>\n",
       "    <tr>\n",
       "      <th>229</th>\n",
       "      <td>-0.524305</td>\n",
       "      <td>0.028961</td>\n",
       "      <td>0.198179</td>\n",
       "      <td>1.336366</td>\n",
       "      <td>-1.298767</td>\n",
       "      <td>-0.192006</td>\n",
       "      <td>-0.361460</td>\n",
       "      <td>-0.267261</td>\n",
       "    </tr>\n",
       "    <tr>\n",
       "      <th>65</th>\n",
       "      <td>-0.413362</td>\n",
       "      <td>-0.112696</td>\n",
       "      <td>1.600388</td>\n",
       "      <td>-0.769618</td>\n",
       "      <td>-0.377414</td>\n",
       "      <td>-0.192006</td>\n",
       "      <td>-0.361460</td>\n",
       "      <td>-0.267261</td>\n",
       "    </tr>\n",
       "    <tr>\n",
       "      <th>217</th>\n",
       "      <td>0.289271</td>\n",
       "      <td>-0.537667</td>\n",
       "      <td>-1.297511</td>\n",
       "      <td>1.336366</td>\n",
       "      <td>0.083263</td>\n",
       "      <td>-0.192006</td>\n",
       "      <td>-0.361460</td>\n",
       "      <td>-0.267261</td>\n",
       "    </tr>\n",
       "    <tr>\n",
       "      <th>328</th>\n",
       "      <td>0.141349</td>\n",
       "      <td>0.453932</td>\n",
       "      <td>-1.764914</td>\n",
       "      <td>0.283374</td>\n",
       "      <td>2.079529</td>\n",
       "      <td>-0.192006</td>\n",
       "      <td>-0.361460</td>\n",
       "      <td>-0.267261</td>\n",
       "    </tr>\n",
       "    <tr>\n",
       "      <th>9</th>\n",
       "      <td>-0.505814</td>\n",
       "      <td>0.737246</td>\n",
       "      <td>-0.923588</td>\n",
       "      <td>-0.769618</td>\n",
       "      <td>-0.223855</td>\n",
       "      <td>-0.192006</td>\n",
       "      <td>-0.361460</td>\n",
       "      <td>-0.267261</td>\n",
       "    </tr>\n",
       "    <tr>\n",
       "      <th>42</th>\n",
       "      <td>-0.542795</td>\n",
       "      <td>-0.254353</td>\n",
       "      <td>-0.269224</td>\n",
       "      <td>-0.769618</td>\n",
       "      <td>-0.684531</td>\n",
       "      <td>-0.192006</td>\n",
       "      <td>-0.361460</td>\n",
       "      <td>-0.267261</td>\n",
       "    </tr>\n",
       "    <tr>\n",
       "      <th>247</th>\n",
       "      <td>-0.431853</td>\n",
       "      <td>0.312275</td>\n",
       "      <td>0.198179</td>\n",
       "      <td>1.336366</td>\n",
       "      <td>-0.070296</td>\n",
       "      <td>-0.192006</td>\n",
       "      <td>-0.361460</td>\n",
       "      <td>-0.267261</td>\n",
       "    </tr>\n",
       "    <tr>\n",
       "      <th>166</th>\n",
       "      <td>0.326252</td>\n",
       "      <td>0.028961</td>\n",
       "      <td>0.852543</td>\n",
       "      <td>-0.769618</td>\n",
       "      <td>-0.838090</td>\n",
       "      <td>-0.192006</td>\n",
       "      <td>-0.361460</td>\n",
       "      <td>-0.267261</td>\n",
       "    </tr>\n",
       "    <tr>\n",
       "      <th>72</th>\n",
       "      <td>-0.136007</td>\n",
       "      <td>0.453932</td>\n",
       "      <td>-1.017069</td>\n",
       "      <td>-0.769618</td>\n",
       "      <td>-0.684531</td>\n",
       "      <td>-0.192006</td>\n",
       "      <td>-0.361460</td>\n",
       "      <td>-0.267261</td>\n",
       "    </tr>\n",
       "    <tr>\n",
       "      <th>276</th>\n",
       "      <td>0.270781</td>\n",
       "      <td>-0.396010</td>\n",
       "      <td>-0.736627</td>\n",
       "      <td>0.283374</td>\n",
       "      <td>1.311734</td>\n",
       "      <td>-0.192006</td>\n",
       "      <td>-0.361460</td>\n",
       "      <td>-0.267261</td>\n",
       "    </tr>\n",
       "    <tr>\n",
       "      <th>228</th>\n",
       "      <td>-0.302420</td>\n",
       "      <td>1.303874</td>\n",
       "      <td>-0.175744</td>\n",
       "      <td>1.336366</td>\n",
       "      <td>-1.145208</td>\n",
       "      <td>5.208167</td>\n",
       "      <td>2.766559</td>\n",
       "      <td>-0.267261</td>\n",
       "    </tr>\n",
       "    <tr>\n",
       "      <th>48</th>\n",
       "      <td>-0.524305</td>\n",
       "      <td>0.170618</td>\n",
       "      <td>-1.390991</td>\n",
       "      <td>-0.769618</td>\n",
       "      <td>0.083263</td>\n",
       "      <td>-0.192006</td>\n",
       "      <td>-0.361460</td>\n",
       "      <td>-0.267261</td>\n",
       "    </tr>\n",
       "    <tr>\n",
       "      <th>8</th>\n",
       "      <td>-1.800140</td>\n",
       "      <td>2.295474</td>\n",
       "      <td>-1.297511</td>\n",
       "      <td>-0.769618</td>\n",
       "      <td>-0.991649</td>\n",
       "      <td>-0.192006</td>\n",
       "      <td>-0.361460</td>\n",
       "      <td>-0.267261</td>\n",
       "    </tr>\n",
       "    <tr>\n",
       "      <th>323</th>\n",
       "      <td>0.344743</td>\n",
       "      <td>-1.104295</td>\n",
       "      <td>0.759063</td>\n",
       "      <td>0.283374</td>\n",
       "      <td>0.697499</td>\n",
       "      <td>-0.192006</td>\n",
       "      <td>-0.361460</td>\n",
       "      <td>-0.267261</td>\n",
       "    </tr>\n",
       "    <tr>\n",
       "      <th>69</th>\n",
       "      <td>-0.524305</td>\n",
       "      <td>-0.396010</td>\n",
       "      <td>-0.269224</td>\n",
       "      <td>-0.769618</td>\n",
       "      <td>-0.991649</td>\n",
       "      <td>5.208167</td>\n",
       "      <td>-0.361460</td>\n",
       "      <td>-0.267261</td>\n",
       "    </tr>\n",
       "    <tr>\n",
       "      <th>307</th>\n",
       "      <td>-0.505814</td>\n",
       "      <td>0.737246</td>\n",
       "      <td>-0.549666</td>\n",
       "      <td>0.283374</td>\n",
       "      <td>0.390381</td>\n",
       "      <td>-0.192006</td>\n",
       "      <td>-0.361460</td>\n",
       "      <td>-0.267261</td>\n",
       "    </tr>\n",
       "    <tr>\n",
       "      <th>167</th>\n",
       "      <td>-0.431853</td>\n",
       "      <td>1.870503</td>\n",
       "      <td>0.011218</td>\n",
       "      <td>-0.769618</td>\n",
       "      <td>-0.684531</td>\n",
       "      <td>-0.192006</td>\n",
       "      <td>-0.361460</td>\n",
       "      <td>-0.267261</td>\n",
       "    </tr>\n",
       "    <tr>\n",
       "      <th>301</th>\n",
       "      <td>0.807002</td>\n",
       "      <td>0.312275</td>\n",
       "      <td>-0.456185</td>\n",
       "      <td>0.283374</td>\n",
       "      <td>0.697499</td>\n",
       "      <td>5.208167</td>\n",
       "      <td>-0.361460</td>\n",
       "      <td>3.741657</td>\n",
       "    </tr>\n",
       "    <tr>\n",
       "      <th>40</th>\n",
       "      <td>-0.413362</td>\n",
       "      <td>-1.104295</td>\n",
       "      <td>1.413427</td>\n",
       "      <td>-0.769618</td>\n",
       "      <td>-0.530973</td>\n",
       "      <td>5.208167</td>\n",
       "      <td>2.766559</td>\n",
       "      <td>-0.267261</td>\n",
       "    </tr>\n",
       "    <tr>\n",
       "      <th>355</th>\n",
       "      <td>-1.874101</td>\n",
       "      <td>0.595589</td>\n",
       "      <td>-1.577953</td>\n",
       "      <td>0.283374</td>\n",
       "      <td>1.925970</td>\n",
       "      <td>-0.192006</td>\n",
       "      <td>-0.361460</td>\n",
       "      <td>3.741657</td>\n",
       "    </tr>\n",
       "    <tr>\n",
       "      <th>161</th>\n",
       "      <td>2.212269</td>\n",
       "      <td>0.028961</td>\n",
       "      <td>-0.175744</td>\n",
       "      <td>-0.769618</td>\n",
       "      <td>-0.530973</td>\n",
       "      <td>-0.192006</td>\n",
       "      <td>-0.361460</td>\n",
       "      <td>-0.267261</td>\n",
       "    </tr>\n",
       "    <tr>\n",
       "      <th>296</th>\n",
       "      <td>0.344743</td>\n",
       "      <td>-0.962638</td>\n",
       "      <td>0.665582</td>\n",
       "      <td>0.283374</td>\n",
       "      <td>0.543940</td>\n",
       "      <td>-0.192006</td>\n",
       "      <td>-0.361460</td>\n",
       "      <td>-0.267261</td>\n",
       "    </tr>\n",
       "    <tr>\n",
       "      <th>30</th>\n",
       "      <td>-0.431853</td>\n",
       "      <td>0.737246</td>\n",
       "      <td>1.039504</td>\n",
       "      <td>-0.769618</td>\n",
       "      <td>0.083263</td>\n",
       "      <td>-0.192006</td>\n",
       "      <td>-0.361460</td>\n",
       "      <td>-0.267261</td>\n",
       "    </tr>\n",
       "    <tr>\n",
       "      <th>200</th>\n",
       "      <td>0.917944</td>\n",
       "      <td>0.170618</td>\n",
       "      <td>0.291659</td>\n",
       "      <td>-0.769618</td>\n",
       "      <td>0.390381</td>\n",
       "      <td>-0.192006</td>\n",
       "      <td>-0.361460</td>\n",
       "      <td>-0.267261</td>\n",
       "    </tr>\n",
       "    <tr>\n",
       "      <th>314</th>\n",
       "      <td>-0.579776</td>\n",
       "      <td>0.737246</td>\n",
       "      <td>1.226466</td>\n",
       "      <td>0.283374</td>\n",
       "      <td>0.697499</td>\n",
       "      <td>-0.192006</td>\n",
       "      <td>-0.361460</td>\n",
       "      <td>-0.267261</td>\n",
       "    </tr>\n",
       "    <tr>\n",
       "      <th>221</th>\n",
       "      <td>-0.468833</td>\n",
       "      <td>0.312275</td>\n",
       "      <td>-0.736627</td>\n",
       "      <td>1.336366</td>\n",
       "      <td>-0.223855</td>\n",
       "      <td>-0.192006</td>\n",
       "      <td>-0.361460</td>\n",
       "      <td>-0.267261</td>\n",
       "    </tr>\n",
       "    <tr>\n",
       "      <th>116</th>\n",
       "      <td>-0.524305</td>\n",
       "      <td>0.453932</td>\n",
       "      <td>-1.297511</td>\n",
       "      <td>2.389358</td>\n",
       "      <td>-0.991649</td>\n",
       "      <td>-0.192006</td>\n",
       "      <td>2.766559</td>\n",
       "      <td>-0.267261</td>\n",
       "    </tr>\n",
       "    <tr>\n",
       "      <th>77</th>\n",
       "      <td>1.879443</td>\n",
       "      <td>0.453932</td>\n",
       "      <td>0.946024</td>\n",
       "      <td>-0.769618</td>\n",
       "      <td>-0.223855</td>\n",
       "      <td>-0.192006</td>\n",
       "      <td>-0.361460</td>\n",
       "      <td>-0.267261</td>\n",
       "    </tr>\n",
       "    <tr>\n",
       "      <th>312</th>\n",
       "      <td>0.954925</td>\n",
       "      <td>-1.104295</td>\n",
       "      <td>1.506907</td>\n",
       "      <td>0.283374</td>\n",
       "      <td>1.004616</td>\n",
       "      <td>-0.192006</td>\n",
       "      <td>-0.361460</td>\n",
       "      <td>3.741657</td>\n",
       "    </tr>\n",
       "    <tr>\n",
       "      <th>263</th>\n",
       "      <td>-1.948063</td>\n",
       "      <td>0.878903</td>\n",
       "      <td>-1.484472</td>\n",
       "      <td>1.336366</td>\n",
       "      <td>0.390381</td>\n",
       "      <td>-0.192006</td>\n",
       "      <td>-0.361460</td>\n",
       "      <td>-0.267261</td>\n",
       "    </tr>\n",
       "    <tr>\n",
       "      <th>125</th>\n",
       "      <td>-0.450343</td>\n",
       "      <td>2.153817</td>\n",
       "      <td>1.600388</td>\n",
       "      <td>2.389358</td>\n",
       "      <td>-1.605885</td>\n",
       "      <td>-0.192006</td>\n",
       "      <td>2.766559</td>\n",
       "      <td>-0.267261</td>\n",
       "    </tr>\n",
       "    <tr>\n",
       "      <th>47</th>\n",
       "      <td>0.252291</td>\n",
       "      <td>0.170618</td>\n",
       "      <td>-1.390991</td>\n",
       "      <td>-0.769618</td>\n",
       "      <td>-0.377414</td>\n",
       "      <td>-0.192006</td>\n",
       "      <td>-0.361460</td>\n",
       "      <td>-0.267261</td>\n",
       "    </tr>\n",
       "    <tr>\n",
       "      <th>315</th>\n",
       "      <td>1.250770</td>\n",
       "      <td>0.595589</td>\n",
       "      <td>1.039504</td>\n",
       "      <td>0.283374</td>\n",
       "      <td>0.390381</td>\n",
       "      <td>-0.192006</td>\n",
       "      <td>-0.361460</td>\n",
       "      <td>-0.267261</td>\n",
       "    </tr>\n",
       "    <tr>\n",
       "      <th>346</th>\n",
       "      <td>0.141349</td>\n",
       "      <td>0.028961</td>\n",
       "      <td>0.011218</td>\n",
       "      <td>0.283374</td>\n",
       "      <td>1.158175</td>\n",
       "      <td>-0.192006</td>\n",
       "      <td>-0.361460</td>\n",
       "      <td>-0.267261</td>\n",
       "    </tr>\n",
       "    <tr>\n",
       "      <th>291</th>\n",
       "      <td>-1.485803</td>\n",
       "      <td>1.162217</td>\n",
       "      <td>0.291659</td>\n",
       "      <td>0.283374</td>\n",
       "      <td>0.851058</td>\n",
       "      <td>-0.192006</td>\n",
       "      <td>-0.361460</td>\n",
       "      <td>-0.267261</td>\n",
       "    </tr>\n",
       "    <tr>\n",
       "      <th>264</th>\n",
       "      <td>-1.929572</td>\n",
       "      <td>1.162217</td>\n",
       "      <td>-1.017069</td>\n",
       "      <td>0.283374</td>\n",
       "      <td>1.004616</td>\n",
       "      <td>-0.192006</td>\n",
       "      <td>-0.361460</td>\n",
       "      <td>-0.267261</td>\n",
       "    </tr>\n",
       "    <tr>\n",
       "      <th>25</th>\n",
       "      <td>-0.413362</td>\n",
       "      <td>-0.962638</td>\n",
       "      <td>1.600388</td>\n",
       "      <td>-0.769618</td>\n",
       "      <td>-0.223855</td>\n",
       "      <td>-0.192006</td>\n",
       "      <td>-0.361460</td>\n",
       "      <td>-0.267261</td>\n",
       "    </tr>\n",
       "    <tr>\n",
       "      <th>158</th>\n",
       "      <td>1.287751</td>\n",
       "      <td>0.737246</td>\n",
       "      <td>0.385140</td>\n",
       "      <td>-0.769618</td>\n",
       "      <td>-0.223855</td>\n",
       "      <td>-0.192006</td>\n",
       "      <td>2.766559</td>\n",
       "      <td>-0.267261</td>\n",
       "    </tr>\n",
       "    <tr>\n",
       "      <th>203</th>\n",
       "      <td>-0.376382</td>\n",
       "      <td>-0.962638</td>\n",
       "      <td>-0.643147</td>\n",
       "      <td>0.134947</td>\n",
       "      <td>1.004616</td>\n",
       "      <td>-0.192006</td>\n",
       "      <td>-0.361460</td>\n",
       "      <td>-0.267261</td>\n",
       "    </tr>\n",
       "    <tr>\n",
       "      <th>260</th>\n",
       "      <td>2.045856</td>\n",
       "      <td>0.312275</td>\n",
       "      <td>0.478621</td>\n",
       "      <td>1.336366</td>\n",
       "      <td>-0.530973</td>\n",
       "      <td>-0.192006</td>\n",
       "      <td>-0.361460</td>\n",
       "      <td>-0.267261</td>\n",
       "    </tr>\n",
       "    <tr>\n",
       "      <th>321</th>\n",
       "      <td>0.363233</td>\n",
       "      <td>-0.820981</td>\n",
       "      <td>1.132985</td>\n",
       "      <td>0.283374</td>\n",
       "      <td>0.697499</td>\n",
       "      <td>-0.192006</td>\n",
       "      <td>2.766559</td>\n",
       "      <td>-0.267261</td>\n",
       "    </tr>\n",
       "    <tr>\n",
       "      <th>249</th>\n",
       "      <td>-0.394872</td>\n",
       "      <td>-0.679324</td>\n",
       "      <td>1.600388</td>\n",
       "      <td>1.336366</td>\n",
       "      <td>0.851058</td>\n",
       "      <td>-0.192006</td>\n",
       "      <td>-0.361460</td>\n",
       "      <td>3.741657</td>\n",
       "    </tr>\n",
       "    <tr>\n",
       "      <th>255</th>\n",
       "      <td>-0.524305</td>\n",
       "      <td>-0.537667</td>\n",
       "      <td>-0.643147</td>\n",
       "      <td>1.336366</td>\n",
       "      <td>-0.377414</td>\n",
       "      <td>-0.192006</td>\n",
       "      <td>-0.361460</td>\n",
       "      <td>-0.267261</td>\n",
       "    </tr>\n",
       "    <tr>\n",
       "      <th>336</th>\n",
       "      <td>0.141349</td>\n",
       "      <td>-0.820981</td>\n",
       "      <td>0.946024</td>\n",
       "      <td>-0.769618</td>\n",
       "      <td>1.618852</td>\n",
       "      <td>-0.192006</td>\n",
       "      <td>-0.361460</td>\n",
       "      <td>-0.267261</td>\n",
       "    </tr>\n",
       "    <tr>\n",
       "      <th>170</th>\n",
       "      <td>1.491145</td>\n",
       "      <td>-0.112696</td>\n",
       "      <td>1.413427</td>\n",
       "      <td>-0.769618</td>\n",
       "      <td>-0.684531</td>\n",
       "      <td>-0.192006</td>\n",
       "      <td>-0.361460</td>\n",
       "      <td>-0.267261</td>\n",
       "    </tr>\n",
       "  </tbody>\n",
       "</table>\n",
       "</div>"
      ],
      "text/plain": [
       "     distance   consume     speed  temp_inside  temp_outside        AC  \\\n",
       "237 -0.062045  0.028961 -0.362705     1.336366     -0.070296 -0.192006   \n",
       "146  1.139828 -0.396010  0.478621    -0.769618     -0.070296 -0.192006   \n",
       "12  -0.431853  1.587188  1.787349    -0.769618     -0.070296 -0.192006   \n",
       "246 -0.302420  1.303874 -0.269224     1.336366      0.083263 -0.192006   \n",
       "257 -0.413362 -0.112696  1.413427     1.336366      0.543940 -0.192006   \n",
       "365  0.141349 -0.396010  1.132985     0.283374      2.386647 -0.192006   \n",
       "17  -0.524305  0.453932 -0.736627    -0.769618     -1.145208 -0.192006   \n",
       "177 -0.099026  0.737246  0.665582    -1.822609     -2.066562 -0.192006   \n",
       "22   0.603608  1.303874 -0.269224    -0.769618     -1.452326 -0.192006   \n",
       "239  0.418704 -0.396010  0.759063     1.336366     -0.223855 -0.192006   \n",
       "310  0.751531 -1.104295  1.880830     0.283374      0.390381 -0.192006   \n",
       "197  2.508115 -0.254353  1.319946    -0.769618      0.543940 -0.192006   \n",
       "229 -0.524305  0.028961  0.198179     1.336366     -1.298767 -0.192006   \n",
       "65  -0.413362 -0.112696  1.600388    -0.769618     -0.377414 -0.192006   \n",
       "217  0.289271 -0.537667 -1.297511     1.336366      0.083263 -0.192006   \n",
       "328  0.141349  0.453932 -1.764914     0.283374      2.079529 -0.192006   \n",
       "9   -0.505814  0.737246 -0.923588    -0.769618     -0.223855 -0.192006   \n",
       "42  -0.542795 -0.254353 -0.269224    -0.769618     -0.684531 -0.192006   \n",
       "247 -0.431853  0.312275  0.198179     1.336366     -0.070296 -0.192006   \n",
       "166  0.326252  0.028961  0.852543    -0.769618     -0.838090 -0.192006   \n",
       "72  -0.136007  0.453932 -1.017069    -0.769618     -0.684531 -0.192006   \n",
       "276  0.270781 -0.396010 -0.736627     0.283374      1.311734 -0.192006   \n",
       "228 -0.302420  1.303874 -0.175744     1.336366     -1.145208  5.208167   \n",
       "48  -0.524305  0.170618 -1.390991    -0.769618      0.083263 -0.192006   \n",
       "8   -1.800140  2.295474 -1.297511    -0.769618     -0.991649 -0.192006   \n",
       "323  0.344743 -1.104295  0.759063     0.283374      0.697499 -0.192006   \n",
       "69  -0.524305 -0.396010 -0.269224    -0.769618     -0.991649  5.208167   \n",
       "307 -0.505814  0.737246 -0.549666     0.283374      0.390381 -0.192006   \n",
       "167 -0.431853  1.870503  0.011218    -0.769618     -0.684531 -0.192006   \n",
       "301  0.807002  0.312275 -0.456185     0.283374      0.697499  5.208167   \n",
       "40  -0.413362 -1.104295  1.413427    -0.769618     -0.530973  5.208167   \n",
       "355 -1.874101  0.595589 -1.577953     0.283374      1.925970 -0.192006   \n",
       "161  2.212269  0.028961 -0.175744    -0.769618     -0.530973 -0.192006   \n",
       "296  0.344743 -0.962638  0.665582     0.283374      0.543940 -0.192006   \n",
       "30  -0.431853  0.737246  1.039504    -0.769618      0.083263 -0.192006   \n",
       "200  0.917944  0.170618  0.291659    -0.769618      0.390381 -0.192006   \n",
       "314 -0.579776  0.737246  1.226466     0.283374      0.697499 -0.192006   \n",
       "221 -0.468833  0.312275 -0.736627     1.336366     -0.223855 -0.192006   \n",
       "116 -0.524305  0.453932 -1.297511     2.389358     -0.991649 -0.192006   \n",
       "77   1.879443  0.453932  0.946024    -0.769618     -0.223855 -0.192006   \n",
       "312  0.954925 -1.104295  1.506907     0.283374      1.004616 -0.192006   \n",
       "263 -1.948063  0.878903 -1.484472     1.336366      0.390381 -0.192006   \n",
       "125 -0.450343  2.153817  1.600388     2.389358     -1.605885 -0.192006   \n",
       "47   0.252291  0.170618 -1.390991    -0.769618     -0.377414 -0.192006   \n",
       "315  1.250770  0.595589  1.039504     0.283374      0.390381 -0.192006   \n",
       "346  0.141349  0.028961  0.011218     0.283374      1.158175 -0.192006   \n",
       "291 -1.485803  1.162217  0.291659     0.283374      0.851058 -0.192006   \n",
       "264 -1.929572  1.162217 -1.017069     0.283374      1.004616 -0.192006   \n",
       "25  -0.413362 -0.962638  1.600388    -0.769618     -0.223855 -0.192006   \n",
       "158  1.287751  0.737246  0.385140    -0.769618     -0.223855 -0.192006   \n",
       "203 -0.376382 -0.962638 -0.643147     0.134947      1.004616 -0.192006   \n",
       "260  2.045856  0.312275  0.478621     1.336366     -0.530973 -0.192006   \n",
       "321  0.363233 -0.820981  1.132985     0.283374      0.697499 -0.192006   \n",
       "249 -0.394872 -0.679324  1.600388     1.336366      0.851058 -0.192006   \n",
       "255 -0.524305 -0.537667 -0.643147     1.336366     -0.377414 -0.192006   \n",
       "336  0.141349 -0.820981  0.946024    -0.769618      1.618852 -0.192006   \n",
       "170  1.491145 -0.112696  1.413427    -0.769618     -0.684531 -0.192006   \n",
       "\n",
       "         rain       sun  \n",
       "237 -0.361460 -0.267261  \n",
       "146 -0.361460 -0.267261  \n",
       "12  -0.361460 -0.267261  \n",
       "246  2.766559 -0.267261  \n",
       "257 -0.361460  3.741657  \n",
       "365 -0.361460 -0.267261  \n",
       "17  -0.361460 -0.267261  \n",
       "177 -0.361460 -0.267261  \n",
       "22  -0.361460 -0.267261  \n",
       "239 -0.361460  3.741657  \n",
       "310 -0.361460 -0.267261  \n",
       "197 -0.361460 -0.267261  \n",
       "229 -0.361460 -0.267261  \n",
       "65  -0.361460 -0.267261  \n",
       "217 -0.361460 -0.267261  \n",
       "328 -0.361460 -0.267261  \n",
       "9   -0.361460 -0.267261  \n",
       "42  -0.361460 -0.267261  \n",
       "247 -0.361460 -0.267261  \n",
       "166 -0.361460 -0.267261  \n",
       "72  -0.361460 -0.267261  \n",
       "276 -0.361460 -0.267261  \n",
       "228  2.766559 -0.267261  \n",
       "48  -0.361460 -0.267261  \n",
       "8   -0.361460 -0.267261  \n",
       "323 -0.361460 -0.267261  \n",
       "69  -0.361460 -0.267261  \n",
       "307 -0.361460 -0.267261  \n",
       "167 -0.361460 -0.267261  \n",
       "301 -0.361460  3.741657  \n",
       "40   2.766559 -0.267261  \n",
       "355 -0.361460  3.741657  \n",
       "161 -0.361460 -0.267261  \n",
       "296 -0.361460 -0.267261  \n",
       "30  -0.361460 -0.267261  \n",
       "200 -0.361460 -0.267261  \n",
       "314 -0.361460 -0.267261  \n",
       "221 -0.361460 -0.267261  \n",
       "116  2.766559 -0.267261  \n",
       "77  -0.361460 -0.267261  \n",
       "312 -0.361460  3.741657  \n",
       "263 -0.361460 -0.267261  \n",
       "125  2.766559 -0.267261  \n",
       "47  -0.361460 -0.267261  \n",
       "315 -0.361460 -0.267261  \n",
       "346 -0.361460 -0.267261  \n",
       "291 -0.361460 -0.267261  \n",
       "264 -0.361460 -0.267261  \n",
       "25  -0.361460 -0.267261  \n",
       "158  2.766559 -0.267261  \n",
       "203 -0.361460 -0.267261  \n",
       "260 -0.361460 -0.267261  \n",
       "321  2.766559 -0.267261  \n",
       "249 -0.361460  3.741657  \n",
       "255 -0.361460 -0.267261  \n",
       "336 -0.361460 -0.267261  \n",
       "170 -0.361460 -0.267261  "
      ]
     },
     "metadata": {},
     "output_type": "display_data"
    }
   ],
   "source": [
    "from sklearn.preprocessing import StandardScaler\n",
    "\n",
    "stdscaler = StandardScaler().fit(X_train_df.values)\n",
    "\n",
    "#X_train:\n",
    "X_train_standardized = stdscaler.transform(X_train_df.values)\n",
    "X_train_standardized_df =pd.DataFrame(X_train_standardized, columns= X_train_df.columns, index = X_train_df.index)\n",
    "print('DataFrame for X_train:')\n",
    "print('-----------------------\\n')\n",
    "display(X_train_standardized_df)\n",
    "\n",
    "#X_test:\n",
    "X_test_standardized = stdscaler.transform(X_test_df.values)\n",
    "X_test_standardized_df = pd.DataFrame(X_test_standardized, columns= X_test_df.columns, index = X_test_df.index)\n",
    "print('DataFrame for X_test:')\n",
    "print('-----------------------\\n')\n",
    "display(X_test_standardized_df)\n"
   ]
  },
  {
   "cell_type": "markdown",
   "id": "5f1920e4",
   "metadata": {},
   "source": [
    "### Oversampling y to correct Class imbalance:"
   ]
  },
  {
   "cell_type": "code",
   "execution_count": 29,
   "id": "1a0ef403",
   "metadata": {
    "ExecuteTime": {
     "end_time": "2022-04-28T15:34:03.085064Z",
     "start_time": "2022-04-28T15:34:03.049687Z"
    }
   },
   "outputs": [
    {
     "data": {
      "text/html": [
       "<div>\n",
       "<style scoped>\n",
       "    .dataframe tbody tr th:only-of-type {\n",
       "        vertical-align: middle;\n",
       "    }\n",
       "\n",
       "    .dataframe tbody tr th {\n",
       "        vertical-align: top;\n",
       "    }\n",
       "\n",
       "    .dataframe thead th {\n",
       "        text-align: right;\n",
       "    }\n",
       "</style>\n",
       "<table border=\"1\" class=\"dataframe\">\n",
       "  <thead>\n",
       "    <tr style=\"text-align: right;\">\n",
       "      <th></th>\n",
       "      <th>distance</th>\n",
       "      <th>consume</th>\n",
       "      <th>speed</th>\n",
       "      <th>temp_inside</th>\n",
       "      <th>temp_outside</th>\n",
       "      <th>AC</th>\n",
       "      <th>rain</th>\n",
       "      <th>sun</th>\n",
       "      <th>gas_type</th>\n",
       "    </tr>\n",
       "  </thead>\n",
       "  <tbody>\n",
       "    <tr>\n",
       "      <th>0</th>\n",
       "      <td>0.511156</td>\n",
       "      <td>0.453932</td>\n",
       "      <td>-0.923588</td>\n",
       "      <td>-0.769618</td>\n",
       "      <td>-0.838090</td>\n",
       "      <td>-0.192006</td>\n",
       "      <td>-0.361460</td>\n",
       "      <td>-0.267261</td>\n",
       "      <td>SP98</td>\n",
       "    </tr>\n",
       "    <tr>\n",
       "      <th>1</th>\n",
       "      <td>-0.431853</td>\n",
       "      <td>0.878903</td>\n",
       "      <td>1.693869</td>\n",
       "      <td>-0.769618</td>\n",
       "      <td>0.390381</td>\n",
       "      <td>-0.192006</td>\n",
       "      <td>-0.361460</td>\n",
       "      <td>-0.267261</td>\n",
       "      <td>E10</td>\n",
       "    </tr>\n",
       "    <tr>\n",
       "      <th>2</th>\n",
       "      <td>0.252291</td>\n",
       "      <td>-0.962638</td>\n",
       "      <td>0.478621</td>\n",
       "      <td>0.283374</td>\n",
       "      <td>0.697499</td>\n",
       "      <td>-0.192006</td>\n",
       "      <td>-0.361460</td>\n",
       "      <td>-0.267261</td>\n",
       "      <td>SP98</td>\n",
       "    </tr>\n",
       "    <tr>\n",
       "      <th>3</th>\n",
       "      <td>0.270781</td>\n",
       "      <td>0.878903</td>\n",
       "      <td>-1.484472</td>\n",
       "      <td>-0.769618</td>\n",
       "      <td>-0.530973</td>\n",
       "      <td>-0.192006</td>\n",
       "      <td>2.766559</td>\n",
       "      <td>-0.267261</td>\n",
       "      <td>E10</td>\n",
       "    </tr>\n",
       "    <tr>\n",
       "      <th>4</th>\n",
       "      <td>0.252291</td>\n",
       "      <td>-1.387609</td>\n",
       "      <td>0.011218</td>\n",
       "      <td>0.283374</td>\n",
       "      <td>-0.377414</td>\n",
       "      <td>-0.192006</td>\n",
       "      <td>-0.361460</td>\n",
       "      <td>-0.267261</td>\n",
       "      <td>SP98</td>\n",
       "    </tr>\n",
       "  </tbody>\n",
       "</table>\n",
       "</div>"
      ],
      "text/plain": [
       "   distance   consume     speed  temp_inside  temp_outside        AC  \\\n",
       "0  0.511156  0.453932 -0.923588    -0.769618     -0.838090 -0.192006   \n",
       "1 -0.431853  0.878903  1.693869    -0.769618      0.390381 -0.192006   \n",
       "2  0.252291 -0.962638  0.478621     0.283374      0.697499 -0.192006   \n",
       "3  0.270781  0.878903 -1.484472    -0.769618     -0.530973 -0.192006   \n",
       "4  0.252291 -1.387609  0.011218     0.283374     -0.377414 -0.192006   \n",
       "\n",
       "       rain       sun gas_type  \n",
       "0 -0.361460 -0.267261     SP98  \n",
       "1 -0.361460 -0.267261      E10  \n",
       "2 -0.361460 -0.267261     SP98  \n",
       "3  2.766559 -0.267261      E10  \n",
       "4 -0.361460 -0.267261     SP98  "
      ]
     },
     "metadata": {},
     "output_type": "display_data"
    }
   ],
   "source": [
    "from imblearn.over_sampling import RandomOverSampler\n",
    "\n",
    "ros = RandomOverSampler(random_state=42)\n",
    "X_train_over, y_train_over = ros.fit_resample(X_train_standardized_df, y_train)\n",
    "display(pd.concat([X_train_over,y_train_over],axis=1).head())"
   ]
  },
  {
   "cell_type": "code",
   "execution_count": 30,
   "id": "b357dd44",
   "metadata": {
    "ExecuteTime": {
     "end_time": "2022-04-28T15:34:03.107804Z",
     "start_time": "2022-04-28T15:34:03.095588Z"
    }
   },
   "outputs": [
    {
     "name": "stdout",
     "output_type": "stream",
     "text": [
      "Before Oversampling: \n",
      "\n",
      "gas_type\n",
      "SP98        127\n",
      "E10          98\n",
      "dtype: int64\n",
      "\n",
      "-----------------------\n",
      "\n",
      "After Oversampling: \n",
      "\n",
      "gas_type\n",
      "E10         127\n",
      "SP98        127\n",
      "dtype: int64\n"
     ]
    }
   ],
   "source": [
    "#Let's check the class balance before and after the Oversampling:\n",
    "\n",
    "print('Before Oversampling: \\n')\n",
    "print(y_train.value_counts())\n",
    "print('\\n-----------------------\\n')\n",
    "print('After Oversampling: \\n')\n",
    "print(y_train_over.value_counts())"
   ]
  },
  {
   "cell_type": "code",
   "execution_count": 40,
   "id": "9b892f36",
   "metadata": {
    "ExecuteTime": {
     "end_time": "2022-04-28T15:35:56.000033Z",
     "start_time": "2022-04-28T15:35:55.751085Z"
    }
   },
   "outputs": [
    {
     "name": "stdout",
     "output_type": "stream",
     "text": [
      "The Accuracy for the Random Forest in the TRAIN set is 0.67\n",
      "The Accuracy for the Random Forest in the TEST  set is 0.56\n"
     ]
    },
    {
     "data": {
      "text/plain": [
       "gas_type\n",
       "E10         29\n",
       "SP98        28\n",
       "dtype: int64"
      ]
     },
     "metadata": {},
     "output_type": "display_data"
    }
   ],
   "source": [
    "from sklearn.ensemble import RandomForestClassifier\n",
    "from sklearn.metrics import confusion_matrix\n",
    "\n",
    "clf = RandomForestClassifier(max_depth=5,\n",
    "                             min_samples_split=20,\n",
    "                             min_samples_leaf =20,\n",
    "                             max_samples=0.8,\n",
    "                             random_state = 42)\n",
    "clf.fit(X_train_over, y_train_over.values.ravel())\n",
    "\n",
    "print(\"The Accuracy for the Random Forest in the TRAIN set is {:.2f}\".format(clf.score(X_train_over, y_train_over.values)))\n",
    "print(\"The Accuracy for the Random Forest in the TEST  set is {:.2f}\".format(clf.score(X_test_standardized_df, y_test.values)))\n",
    "\n",
    "y_pred_train = clf.predict(X_train_over)\n",
    "y_pred_test = clf.predict(X_test_standardized_df)\n",
    "\n",
    "display(y_test.value_counts())"
   ]
  },
  {
   "cell_type": "code",
   "execution_count": 39,
   "id": "f37ca27c",
   "metadata": {
    "ExecuteTime": {
     "end_time": "2022-04-28T15:35:16.776157Z",
     "start_time": "2022-04-28T15:35:16.395930Z"
    }
   },
   "outputs": [
    {
     "name": "stdout",
     "output_type": "stream",
     "text": [
      "ACCURACY SCORE:\n",
      "\n",
      "The accuracy in the TRAIN set is: 0.669\n",
      "The accuracy in the TEST  set is: 0.561\n",
      "\n",
      "-------------------------------------------------\n",
      "\n",
      "PRECISSION SCORE:\n",
      "\n",
      "The precission in the TRAIN set is: 0.678\n",
      "The precission in the TEST  set is: 0.567\n",
      "\n",
      "-------------------------------------------------\n",
      "\n",
      "RECALL SCORE:\n",
      "\n",
      "The recall in the TRAIN set is: 0.646\n",
      "The recall in the TEST  set is: 0.586\n",
      "\n",
      "-------------------------------------------------\n",
      "\n",
      "F1 SCORE:\n",
      "\n",
      "The F1-score for the TRAIN set is 0.66\n",
      "The F1-score for the TEST set is 0.58\n",
      "\n",
      "-------------------------------------------------\n",
      "\n",
      "KAPPA SCORE:\n",
      "\n",
      "The Kappa in the TRAIN set is: 0.34\n",
      "The Kappa in the TEST set is: 0.12\n",
      "\n",
      "-------------------------------------------------\n",
      "\n",
      "CLASSIFICATION REPORT FOR TRAIN SET:\n",
      "\n",
      "              precision    recall  f1-score   support\n",
      "\n",
      "          No       0.68      0.65      0.66       127\n",
      "         Yes       0.66      0.69      0.68       127\n",
      "\n",
      "    accuracy                           0.67       254\n",
      "   macro avg       0.67      0.67      0.67       254\n",
      "weighted avg       0.67      0.67      0.67       254\n",
      "\n",
      "\n",
      "-------------------------------------------------\n",
      "\n",
      "CLASSIFICATION REPORT FOR TEST SET:\n",
      "\n",
      "              precision    recall  f1-score   support\n",
      "\n",
      "          No       0.57      0.59      0.58        29\n",
      "         Yes       0.56      0.54      0.55        28\n",
      "\n",
      "    accuracy                           0.56        57\n",
      "   macro avg       0.56      0.56      0.56        57\n",
      "weighted avg       0.56      0.56      0.56        57\n",
      "\n",
      "The Confusion Matrix on Train set:\n"
     ]
    },
    {
     "data": {
      "image/png": "[encoded data removed]",
      "text/plain": [
       "<Figure size 432x288 with 2 Axes>"
      ]
     },
     "metadata": {
      "needs_background": "light"
     },
     "output_type": "display_data"
    },
    {
     "name": "stdout",
     "output_type": "stream",
     "text": [
      "The Confusion Matrix on Test set:\n"
     ]
    },
    {
     "data": {
      "image/png": "[encoded data removed]",
      "text/plain": [
       "<Figure size 432x288 with 2 Axes>"
      ]
     },
     "metadata": {
      "needs_background": "light"
     },
     "output_type": "display_data"
    }
   ],
   "source": [
    "functions.log_class_scores(awa, y_train_over, y_pred_train, y_test, y_pred_test, 'E10')"
   ]
  },
  {
   "cell_type": "code",
   "execution_count": null,
   "id": "37e098ef",
   "metadata": {},
   "outputs": [],
   "source": []
  }
 ],
 "metadata": {
  "kernelspec": {
   "display_name": "Python 3 (ipykernel)",
   "language": "python",
   "name": "python3"
  },
  "language_info": {
   "codemirror_mode": {
    "name": "ipython",
    "version": 3
   },
   "file_extension": ".py",
   "mimetype": "text/x-python",
   "name": "python",
   "nbconvert_exporter": "python",
   "pygments_lexer": "ipython3",
   "version": "3.9.12"
  },
  "toc": {
   "base_numbering": 1,
   "nav_menu": {},
   "number_sections": true,
   "sideBar": true,
   "skip_h1_title": false,
   "title_cell": "Table of Contents",
   "title_sidebar": "Contents",
   "toc_cell": false,
   "toc_position": {
    "height": "calc(100% - 180px)",
    "left": "10px",
    "top": "150px",
    "width": "384px"
   },
   "toc_section_display": true,
   "toc_window_display": true
  }
 },
 "nbformat": 4,
 "nbformat_minor": 5
}

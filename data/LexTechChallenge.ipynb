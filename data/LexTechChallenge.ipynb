{
 "cells": [
  {
   "cell_type": "code",
   "execution_count": 30,
   "id": "0199c3a7",
   "metadata": {},
   "outputs": [],
   "source": [
    "import pandas as pd\n",
    "import numpy as np\n",
    "import matplotlib.pyplot as plt\n",
    "%matplotlib inline\n",
    "import seaborn as sns"
   ]
  },
  {
   "cell_type": "code",
   "execution_count": 2,
   "id": "72869370",
   "metadata": {},
   "outputs": [],
   "source": [
    "meas1 = pd.read_csv('measurements.csv')"
   ]
  },
  {
   "cell_type": "code",
   "execution_count": 3,
   "id": "fdcaaecc",
   "metadata": {},
   "outputs": [
    {
     "data": {
      "text/html": [
       "<div>\n",
       "<style scoped>\n",
       "    .dataframe tbody tr th:only-of-type {\n",
       "        vertical-align: middle;\n",
       "    }\n",
       "\n",
       "    .dataframe tbody tr th {\n",
       "        vertical-align: top;\n",
       "    }\n",
       "\n",
       "    .dataframe thead th {\n",
       "        text-align: right;\n",
       "    }\n",
       "</style>\n",
       "<table border=\"1\" class=\"dataframe\">\n",
       "  <thead>\n",
       "    <tr style=\"text-align: right;\">\n",
       "      <th></th>\n",
       "      <th>distance</th>\n",
       "      <th>consume</th>\n",
       "      <th>speed</th>\n",
       "      <th>temp_inside</th>\n",
       "      <th>temp_outside</th>\n",
       "      <th>specials</th>\n",
       "      <th>gas_type</th>\n",
       "      <th>AC</th>\n",
       "      <th>rain</th>\n",
       "      <th>sun</th>\n",
       "      <th>refill liters</th>\n",
       "      <th>refill gas</th>\n",
       "    </tr>\n",
       "  </thead>\n",
       "  <tbody>\n",
       "    <tr>\n",
       "      <th>0</th>\n",
       "      <td>28</td>\n",
       "      <td>5</td>\n",
       "      <td>26</td>\n",
       "      <td>21,5</td>\n",
       "      <td>12</td>\n",
       "      <td>NaN</td>\n",
       "      <td>E10</td>\n",
       "      <td>0</td>\n",
       "      <td>0</td>\n",
       "      <td>0</td>\n",
       "      <td>45</td>\n",
       "      <td>E10</td>\n",
       "    </tr>\n",
       "    <tr>\n",
       "      <th>1</th>\n",
       "      <td>12</td>\n",
       "      <td>4,2</td>\n",
       "      <td>30</td>\n",
       "      <td>21,5</td>\n",
       "      <td>13</td>\n",
       "      <td>NaN</td>\n",
       "      <td>E10</td>\n",
       "      <td>0</td>\n",
       "      <td>0</td>\n",
       "      <td>0</td>\n",
       "      <td>NaN</td>\n",
       "      <td>NaN</td>\n",
       "    </tr>\n",
       "    <tr>\n",
       "      <th>2</th>\n",
       "      <td>11,2</td>\n",
       "      <td>5,5</td>\n",
       "      <td>38</td>\n",
       "      <td>21,5</td>\n",
       "      <td>15</td>\n",
       "      <td>NaN</td>\n",
       "      <td>E10</td>\n",
       "      <td>0</td>\n",
       "      <td>0</td>\n",
       "      <td>0</td>\n",
       "      <td>NaN</td>\n",
       "      <td>NaN</td>\n",
       "    </tr>\n",
       "    <tr>\n",
       "      <th>3</th>\n",
       "      <td>12,9</td>\n",
       "      <td>3,9</td>\n",
       "      <td>36</td>\n",
       "      <td>21,5</td>\n",
       "      <td>14</td>\n",
       "      <td>NaN</td>\n",
       "      <td>E10</td>\n",
       "      <td>0</td>\n",
       "      <td>0</td>\n",
       "      <td>0</td>\n",
       "      <td>NaN</td>\n",
       "      <td>NaN</td>\n",
       "    </tr>\n",
       "    <tr>\n",
       "      <th>4</th>\n",
       "      <td>18,5</td>\n",
       "      <td>4,5</td>\n",
       "      <td>46</td>\n",
       "      <td>21,5</td>\n",
       "      <td>15</td>\n",
       "      <td>NaN</td>\n",
       "      <td>E10</td>\n",
       "      <td>0</td>\n",
       "      <td>0</td>\n",
       "      <td>0</td>\n",
       "      <td>NaN</td>\n",
       "      <td>NaN</td>\n",
       "    </tr>\n",
       "  </tbody>\n",
       "</table>\n",
       "</div>"
      ],
      "text/plain": [
       "  distance consume  speed temp_inside  temp_outside specials gas_type  AC  \\\n",
       "0       28       5     26        21,5            12      NaN      E10   0   \n",
       "1       12     4,2     30        21,5            13      NaN      E10   0   \n",
       "2     11,2     5,5     38        21,5            15      NaN      E10   0   \n",
       "3     12,9     3,9     36        21,5            14      NaN      E10   0   \n",
       "4     18,5     4,5     46        21,5            15      NaN      E10   0   \n",
       "\n",
       "   rain  sun refill liters refill gas  \n",
       "0     0    0            45        E10  \n",
       "1     0    0           NaN        NaN  \n",
       "2     0    0           NaN        NaN  \n",
       "3     0    0           NaN        NaN  \n",
       "4     0    0           NaN        NaN  "
      ]
     },
     "execution_count": 3,
     "metadata": {},
     "output_type": "execute_result"
    }
   ],
   "source": [
    "meas1.head()"
   ]
  },
  {
   "cell_type": "code",
   "execution_count": 4,
   "id": "49e57eaf",
   "metadata": {},
   "outputs": [],
   "source": [
    "meas2 = pd.read_excel('measurements2.xlsx')"
   ]
  },
  {
   "cell_type": "code",
   "execution_count": 5,
   "id": "ee6c5054",
   "metadata": {},
   "outputs": [
    {
     "data": {
      "text/html": [
       "<div>\n",
       "<style scoped>\n",
       "    .dataframe tbody tr th:only-of-type {\n",
       "        vertical-align: middle;\n",
       "    }\n",
       "\n",
       "    .dataframe tbody tr th {\n",
       "        vertical-align: top;\n",
       "    }\n",
       "\n",
       "    .dataframe thead th {\n",
       "        text-align: right;\n",
       "    }\n",
       "</style>\n",
       "<table border=\"1\" class=\"dataframe\">\n",
       "  <thead>\n",
       "    <tr style=\"text-align: right;\">\n",
       "      <th></th>\n",
       "      <th>distance</th>\n",
       "      <th>consume</th>\n",
       "      <th>speed</th>\n",
       "      <th>temp_inside</th>\n",
       "      <th>temp_outside</th>\n",
       "      <th>specials</th>\n",
       "      <th>gas_type</th>\n",
       "      <th>AC</th>\n",
       "      <th>rain</th>\n",
       "      <th>sun</th>\n",
       "      <th>refill liters</th>\n",
       "      <th>refill gas</th>\n",
       "    </tr>\n",
       "  </thead>\n",
       "  <tbody>\n",
       "    <tr>\n",
       "      <th>0</th>\n",
       "      <td>28.0</td>\n",
       "      <td>5.0</td>\n",
       "      <td>26</td>\n",
       "      <td>21.5</td>\n",
       "      <td>12</td>\n",
       "      <td>NaN</td>\n",
       "      <td>E10</td>\n",
       "      <td>0</td>\n",
       "      <td>0</td>\n",
       "      <td>0</td>\n",
       "      <td>45.0</td>\n",
       "      <td>E10</td>\n",
       "    </tr>\n",
       "    <tr>\n",
       "      <th>1</th>\n",
       "      <td>12.0</td>\n",
       "      <td>4.2</td>\n",
       "      <td>30</td>\n",
       "      <td>21.5</td>\n",
       "      <td>13</td>\n",
       "      <td>NaN</td>\n",
       "      <td>E10</td>\n",
       "      <td>0</td>\n",
       "      <td>0</td>\n",
       "      <td>0</td>\n",
       "      <td>NaN</td>\n",
       "      <td>NaN</td>\n",
       "    </tr>\n",
       "    <tr>\n",
       "      <th>2</th>\n",
       "      <td>11.2</td>\n",
       "      <td>5.5</td>\n",
       "      <td>38</td>\n",
       "      <td>21.5</td>\n",
       "      <td>15</td>\n",
       "      <td>NaN</td>\n",
       "      <td>E10</td>\n",
       "      <td>0</td>\n",
       "      <td>0</td>\n",
       "      <td>0</td>\n",
       "      <td>NaN</td>\n",
       "      <td>NaN</td>\n",
       "    </tr>\n",
       "    <tr>\n",
       "      <th>3</th>\n",
       "      <td>12.9</td>\n",
       "      <td>3.9</td>\n",
       "      <td>36</td>\n",
       "      <td>21.5</td>\n",
       "      <td>14</td>\n",
       "      <td>NaN</td>\n",
       "      <td>E10</td>\n",
       "      <td>0</td>\n",
       "      <td>0</td>\n",
       "      <td>0</td>\n",
       "      <td>NaN</td>\n",
       "      <td>NaN</td>\n",
       "    </tr>\n",
       "    <tr>\n",
       "      <th>4</th>\n",
       "      <td>18.5</td>\n",
       "      <td>4.5</td>\n",
       "      <td>46</td>\n",
       "      <td>21.5</td>\n",
       "      <td>15</td>\n",
       "      <td>NaN</td>\n",
       "      <td>E10</td>\n",
       "      <td>0</td>\n",
       "      <td>0</td>\n",
       "      <td>0</td>\n",
       "      <td>NaN</td>\n",
       "      <td>NaN</td>\n",
       "    </tr>\n",
       "  </tbody>\n",
       "</table>\n",
       "</div>"
      ],
      "text/plain": [
       "   distance  consume  speed  temp_inside  temp_outside specials gas_type  AC  \\\n",
       "0      28.0      5.0     26         21.5            12      NaN      E10   0   \n",
       "1      12.0      4.2     30         21.5            13      NaN      E10   0   \n",
       "2      11.2      5.5     38         21.5            15      NaN      E10   0   \n",
       "3      12.9      3.9     36         21.5            14      NaN      E10   0   \n",
       "4      18.5      4.5     46         21.5            15      NaN      E10   0   \n",
       "\n",
       "   rain  sun  refill liters refill gas  \n",
       "0     0    0           45.0        E10  \n",
       "1     0    0            NaN        NaN  \n",
       "2     0    0            NaN        NaN  \n",
       "3     0    0            NaN        NaN  \n",
       "4     0    0            NaN        NaN  "
      ]
     },
     "execution_count": 5,
     "metadata": {},
     "output_type": "execute_result"
    }
   ],
   "source": [
    "meas2.head()"
   ]
  },
  {
   "cell_type": "code",
   "execution_count": 6,
   "id": "8d12b156",
   "metadata": {},
   "outputs": [
    {
     "data": {
      "text/plain": [
       "(388, 12)"
      ]
     },
     "execution_count": 6,
     "metadata": {},
     "output_type": "execute_result"
    }
   ],
   "source": [
    "meas1.shape"
   ]
  },
  {
   "cell_type": "code",
   "execution_count": 7,
   "id": "aeea91ef",
   "metadata": {},
   "outputs": [
    {
     "data": {
      "text/plain": [
       "(388, 12)"
      ]
     },
     "execution_count": 7,
     "metadata": {},
     "output_type": "execute_result"
    }
   ],
   "source": [
    "meas2.shape"
   ]
  },
  {
   "cell_type": "code",
   "execution_count": 8,
   "id": "ebdc2ea3",
   "metadata": {},
   "outputs": [
    {
     "name": "stdout",
     "output_type": "stream",
     "text": [
      "<class 'pandas.core.frame.DataFrame'>\n",
      "RangeIndex: 388 entries, 0 to 387\n",
      "Data columns (total 12 columns):\n",
      " #   Column         Non-Null Count  Dtype \n",
      "---  ------         --------------  ----- \n",
      " 0   distance       388 non-null    object\n",
      " 1   consume        388 non-null    object\n",
      " 2   speed          388 non-null    int64 \n",
      " 3   temp_inside    376 non-null    object\n",
      " 4   temp_outside   388 non-null    int64 \n",
      " 5   specials       93 non-null     object\n",
      " 6   gas_type       388 non-null    object\n",
      " 7   AC             388 non-null    int64 \n",
      " 8   rain           388 non-null    int64 \n",
      " 9   sun            388 non-null    int64 \n",
      " 10  refill liters  13 non-null     object\n",
      " 11  refill gas     13 non-null     object\n",
      "dtypes: int64(5), object(7)\n",
      "memory usage: 36.5+ KB\n"
     ]
    }
   ],
   "source": [
    "meas1.info()"
   ]
  },
  {
   "cell_type": "code",
   "execution_count": 9,
   "id": "036037f4",
   "metadata": {},
   "outputs": [
    {
     "name": "stdout",
     "output_type": "stream",
     "text": [
      "<class 'pandas.core.frame.DataFrame'>\n",
      "RangeIndex: 388 entries, 0 to 387\n",
      "Data columns (total 12 columns):\n",
      " #   Column         Non-Null Count  Dtype  \n",
      "---  ------         --------------  -----  \n",
      " 0   distance       388 non-null    float64\n",
      " 1   consume        388 non-null    float64\n",
      " 2   speed          388 non-null    int64  \n",
      " 3   temp_inside    376 non-null    float64\n",
      " 4   temp_outside   388 non-null    int64  \n",
      " 5   specials       93 non-null     object \n",
      " 6   gas_type       388 non-null    object \n",
      " 7   AC             388 non-null    int64  \n",
      " 8   rain           388 non-null    int64  \n",
      " 9   sun            388 non-null    int64  \n",
      " 10  refill liters  13 non-null     float64\n",
      " 11  refill gas     13 non-null     object \n",
      "dtypes: float64(4), int64(5), object(3)\n",
      "memory usage: 36.5+ KB\n"
     ]
    }
   ],
   "source": [
    "meas2.info()"
   ]
  },
  {
   "cell_type": "code",
   "execution_count": 10,
   "id": "c4523e66",
   "metadata": {},
   "outputs": [
    {
     "data": {
      "text/html": [
       "<div>\n",
       "<style scoped>\n",
       "    .dataframe tbody tr th:only-of-type {\n",
       "        vertical-align: middle;\n",
       "    }\n",
       "\n",
       "    .dataframe tbody tr th {\n",
       "        vertical-align: top;\n",
       "    }\n",
       "\n",
       "    .dataframe thead th {\n",
       "        text-align: right;\n",
       "    }\n",
       "</style>\n",
       "<table border=\"1\" class=\"dataframe\">\n",
       "  <thead>\n",
       "    <tr style=\"text-align: right;\">\n",
       "      <th></th>\n",
       "      <th>count</th>\n",
       "      <th>mean</th>\n",
       "      <th>std</th>\n",
       "      <th>min</th>\n",
       "      <th>25%</th>\n",
       "      <th>50%</th>\n",
       "      <th>75%</th>\n",
       "      <th>max</th>\n",
       "    </tr>\n",
       "  </thead>\n",
       "  <tbody>\n",
       "    <tr>\n",
       "      <th>speed</th>\n",
       "      <td>388.0</td>\n",
       "      <td>41.927835</td>\n",
       "      <td>13.598524</td>\n",
       "      <td>14.0</td>\n",
       "      <td>32.75</td>\n",
       "      <td>40.5</td>\n",
       "      <td>50.0</td>\n",
       "      <td>90.0</td>\n",
       "    </tr>\n",
       "    <tr>\n",
       "      <th>temp_outside</th>\n",
       "      <td>388.0</td>\n",
       "      <td>11.358247</td>\n",
       "      <td>6.991542</td>\n",
       "      <td>-5.0</td>\n",
       "      <td>7.00</td>\n",
       "      <td>10.0</td>\n",
       "      <td>16.0</td>\n",
       "      <td>31.0</td>\n",
       "    </tr>\n",
       "    <tr>\n",
       "      <th>AC</th>\n",
       "      <td>388.0</td>\n",
       "      <td>0.077320</td>\n",
       "      <td>0.267443</td>\n",
       "      <td>0.0</td>\n",
       "      <td>0.00</td>\n",
       "      <td>0.0</td>\n",
       "      <td>0.0</td>\n",
       "      <td>1.0</td>\n",
       "    </tr>\n",
       "    <tr>\n",
       "      <th>rain</th>\n",
       "      <td>388.0</td>\n",
       "      <td>0.123711</td>\n",
       "      <td>0.329677</td>\n",
       "      <td>0.0</td>\n",
       "      <td>0.00</td>\n",
       "      <td>0.0</td>\n",
       "      <td>0.0</td>\n",
       "      <td>1.0</td>\n",
       "    </tr>\n",
       "    <tr>\n",
       "      <th>sun</th>\n",
       "      <td>388.0</td>\n",
       "      <td>0.082474</td>\n",
       "      <td>0.275441</td>\n",
       "      <td>0.0</td>\n",
       "      <td>0.00</td>\n",
       "      <td>0.0</td>\n",
       "      <td>0.0</td>\n",
       "      <td>1.0</td>\n",
       "    </tr>\n",
       "  </tbody>\n",
       "</table>\n",
       "</div>"
      ],
      "text/plain": [
       "              count       mean        std   min    25%   50%   75%   max\n",
       "speed         388.0  41.927835  13.598524  14.0  32.75  40.5  50.0  90.0\n",
       "temp_outside  388.0  11.358247   6.991542  -5.0   7.00  10.0  16.0  31.0\n",
       "AC            388.0   0.077320   0.267443   0.0   0.00   0.0   0.0   1.0\n",
       "rain          388.0   0.123711   0.329677   0.0   0.00   0.0   0.0   1.0\n",
       "sun           388.0   0.082474   0.275441   0.0   0.00   0.0   0.0   1.0"
      ]
     },
     "execution_count": 10,
     "metadata": {},
     "output_type": "execute_result"
    }
   ],
   "source": [
    "meas1.describe().T"
   ]
  },
  {
   "cell_type": "code",
   "execution_count": 11,
   "id": "5df59e84",
   "metadata": {},
   "outputs": [
    {
     "data": {
      "text/html": [
       "<div>\n",
       "<style scoped>\n",
       "    .dataframe tbody tr th:only-of-type {\n",
       "        vertical-align: middle;\n",
       "    }\n",
       "\n",
       "    .dataframe tbody tr th {\n",
       "        vertical-align: top;\n",
       "    }\n",
       "\n",
       "    .dataframe thead th {\n",
       "        text-align: right;\n",
       "    }\n",
       "</style>\n",
       "<table border=\"1\" class=\"dataframe\">\n",
       "  <thead>\n",
       "    <tr style=\"text-align: right;\">\n",
       "      <th></th>\n",
       "      <th>count</th>\n",
       "      <th>mean</th>\n",
       "      <th>std</th>\n",
       "      <th>min</th>\n",
       "      <th>25%</th>\n",
       "      <th>50%</th>\n",
       "      <th>75%</th>\n",
       "      <th>max</th>\n",
       "    </tr>\n",
       "  </thead>\n",
       "  <tbody>\n",
       "    <tr>\n",
       "      <th>distance</th>\n",
       "      <td>388.0</td>\n",
       "      <td>19.652835</td>\n",
       "      <td>22.667837</td>\n",
       "      <td>1.3</td>\n",
       "      <td>11.80</td>\n",
       "      <td>14.6</td>\n",
       "      <td>19.0</td>\n",
       "      <td>216.1</td>\n",
       "    </tr>\n",
       "    <tr>\n",
       "      <th>consume</th>\n",
       "      <td>388.0</td>\n",
       "      <td>4.912371</td>\n",
       "      <td>1.033172</td>\n",
       "      <td>3.3</td>\n",
       "      <td>4.30</td>\n",
       "      <td>4.7</td>\n",
       "      <td>5.3</td>\n",
       "      <td>12.2</td>\n",
       "    </tr>\n",
       "    <tr>\n",
       "      <th>speed</th>\n",
       "      <td>388.0</td>\n",
       "      <td>41.927835</td>\n",
       "      <td>13.598524</td>\n",
       "      <td>14.0</td>\n",
       "      <td>32.75</td>\n",
       "      <td>40.5</td>\n",
       "      <td>50.0</td>\n",
       "      <td>90.0</td>\n",
       "    </tr>\n",
       "    <tr>\n",
       "      <th>temp_inside</th>\n",
       "      <td>376.0</td>\n",
       "      <td>21.929521</td>\n",
       "      <td>1.010455</td>\n",
       "      <td>19.0</td>\n",
       "      <td>21.50</td>\n",
       "      <td>22.0</td>\n",
       "      <td>22.5</td>\n",
       "      <td>25.5</td>\n",
       "    </tr>\n",
       "    <tr>\n",
       "      <th>temp_outside</th>\n",
       "      <td>388.0</td>\n",
       "      <td>11.358247</td>\n",
       "      <td>6.991542</td>\n",
       "      <td>-5.0</td>\n",
       "      <td>7.00</td>\n",
       "      <td>10.0</td>\n",
       "      <td>16.0</td>\n",
       "      <td>31.0</td>\n",
       "    </tr>\n",
       "    <tr>\n",
       "      <th>AC</th>\n",
       "      <td>388.0</td>\n",
       "      <td>0.077320</td>\n",
       "      <td>0.267443</td>\n",
       "      <td>0.0</td>\n",
       "      <td>0.00</td>\n",
       "      <td>0.0</td>\n",
       "      <td>0.0</td>\n",
       "      <td>1.0</td>\n",
       "    </tr>\n",
       "    <tr>\n",
       "      <th>rain</th>\n",
       "      <td>388.0</td>\n",
       "      <td>0.123711</td>\n",
       "      <td>0.329677</td>\n",
       "      <td>0.0</td>\n",
       "      <td>0.00</td>\n",
       "      <td>0.0</td>\n",
       "      <td>0.0</td>\n",
       "      <td>1.0</td>\n",
       "    </tr>\n",
       "    <tr>\n",
       "      <th>sun</th>\n",
       "      <td>388.0</td>\n",
       "      <td>0.082474</td>\n",
       "      <td>0.275441</td>\n",
       "      <td>0.0</td>\n",
       "      <td>0.00</td>\n",
       "      <td>0.0</td>\n",
       "      <td>0.0</td>\n",
       "      <td>1.0</td>\n",
       "    </tr>\n",
       "    <tr>\n",
       "      <th>refill liters</th>\n",
       "      <td>13.0</td>\n",
       "      <td>37.115385</td>\n",
       "      <td>8.587282</td>\n",
       "      <td>10.0</td>\n",
       "      <td>37.60</td>\n",
       "      <td>38.0</td>\n",
       "      <td>39.0</td>\n",
       "      <td>45.0</td>\n",
       "    </tr>\n",
       "  </tbody>\n",
       "</table>\n",
       "</div>"
      ],
      "text/plain": [
       "               count       mean        std   min    25%   50%   75%    max\n",
       "distance       388.0  19.652835  22.667837   1.3  11.80  14.6  19.0  216.1\n",
       "consume        388.0   4.912371   1.033172   3.3   4.30   4.7   5.3   12.2\n",
       "speed          388.0  41.927835  13.598524  14.0  32.75  40.5  50.0   90.0\n",
       "temp_inside    376.0  21.929521   1.010455  19.0  21.50  22.0  22.5   25.5\n",
       "temp_outside   388.0  11.358247   6.991542  -5.0   7.00  10.0  16.0   31.0\n",
       "AC             388.0   0.077320   0.267443   0.0   0.00   0.0   0.0    1.0\n",
       "rain           388.0   0.123711   0.329677   0.0   0.00   0.0   0.0    1.0\n",
       "sun            388.0   0.082474   0.275441   0.0   0.00   0.0   0.0    1.0\n",
       "refill liters   13.0  37.115385   8.587282  10.0  37.60  38.0  39.0   45.0"
      ]
     },
     "execution_count": 11,
     "metadata": {},
     "output_type": "execute_result"
    }
   ],
   "source": [
    "meas2.describe().T"
   ]
  },
  {
   "cell_type": "code",
   "execution_count": 12,
   "id": "d0103d95",
   "metadata": {},
   "outputs": [],
   "source": [
    "#Some columns in Meas1 are objects so I can't compare the files. Will convert to Floats and compare Meas1 and Meas2."
   ]
  },
  {
   "cell_type": "code",
   "execution_count": 13,
   "id": "0fe4a277",
   "metadata": {},
   "outputs": [],
   "source": [
    "meas1[\"distance\"] = meas1['distance'].str.replace(',','.').astype(float)\n",
    "meas1[\"consume\"] = meas1['consume'].str.replace(',','.').astype(float)\n",
    "meas1[\"temp_inside\"] = meas1['temp_inside'].str.replace(',','.').astype(float)\n",
    "meas1[\"refill liters\"] = meas1['refill liters'].str.replace(',','.').astype(float)"
   ]
  },
  {
   "cell_type": "code",
   "execution_count": 14,
   "id": "2477267e",
   "metadata": {},
   "outputs": [
    {
     "data": {
      "text/html": [
       "<div>\n",
       "<style scoped>\n",
       "    .dataframe tbody tr th:only-of-type {\n",
       "        vertical-align: middle;\n",
       "    }\n",
       "\n",
       "    .dataframe tbody tr th {\n",
       "        vertical-align: top;\n",
       "    }\n",
       "\n",
       "    .dataframe thead th {\n",
       "        text-align: right;\n",
       "    }\n",
       "</style>\n",
       "<table border=\"1\" class=\"dataframe\">\n",
       "  <thead>\n",
       "    <tr style=\"text-align: right;\">\n",
       "      <th></th>\n",
       "      <th>count</th>\n",
       "      <th>mean</th>\n",
       "      <th>std</th>\n",
       "      <th>min</th>\n",
       "      <th>25%</th>\n",
       "      <th>50%</th>\n",
       "      <th>75%</th>\n",
       "      <th>max</th>\n",
       "    </tr>\n",
       "  </thead>\n",
       "  <tbody>\n",
       "    <tr>\n",
       "      <th>distance</th>\n",
       "      <td>388.0</td>\n",
       "      <td>19.652835</td>\n",
       "      <td>22.667837</td>\n",
       "      <td>1.3</td>\n",
       "      <td>11.80</td>\n",
       "      <td>14.6</td>\n",
       "      <td>19.0</td>\n",
       "      <td>216.1</td>\n",
       "    </tr>\n",
       "    <tr>\n",
       "      <th>consume</th>\n",
       "      <td>388.0</td>\n",
       "      <td>4.912371</td>\n",
       "      <td>1.033172</td>\n",
       "      <td>3.3</td>\n",
       "      <td>4.30</td>\n",
       "      <td>4.7</td>\n",
       "      <td>5.3</td>\n",
       "      <td>12.2</td>\n",
       "    </tr>\n",
       "    <tr>\n",
       "      <th>speed</th>\n",
       "      <td>388.0</td>\n",
       "      <td>41.927835</td>\n",
       "      <td>13.598524</td>\n",
       "      <td>14.0</td>\n",
       "      <td>32.75</td>\n",
       "      <td>40.5</td>\n",
       "      <td>50.0</td>\n",
       "      <td>90.0</td>\n",
       "    </tr>\n",
       "    <tr>\n",
       "      <th>temp_inside</th>\n",
       "      <td>376.0</td>\n",
       "      <td>21.929521</td>\n",
       "      <td>1.010455</td>\n",
       "      <td>19.0</td>\n",
       "      <td>21.50</td>\n",
       "      <td>22.0</td>\n",
       "      <td>22.5</td>\n",
       "      <td>25.5</td>\n",
       "    </tr>\n",
       "    <tr>\n",
       "      <th>temp_outside</th>\n",
       "      <td>388.0</td>\n",
       "      <td>11.358247</td>\n",
       "      <td>6.991542</td>\n",
       "      <td>-5.0</td>\n",
       "      <td>7.00</td>\n",
       "      <td>10.0</td>\n",
       "      <td>16.0</td>\n",
       "      <td>31.0</td>\n",
       "    </tr>\n",
       "    <tr>\n",
       "      <th>AC</th>\n",
       "      <td>388.0</td>\n",
       "      <td>0.077320</td>\n",
       "      <td>0.267443</td>\n",
       "      <td>0.0</td>\n",
       "      <td>0.00</td>\n",
       "      <td>0.0</td>\n",
       "      <td>0.0</td>\n",
       "      <td>1.0</td>\n",
       "    </tr>\n",
       "    <tr>\n",
       "      <th>rain</th>\n",
       "      <td>388.0</td>\n",
       "      <td>0.123711</td>\n",
       "      <td>0.329677</td>\n",
       "      <td>0.0</td>\n",
       "      <td>0.00</td>\n",
       "      <td>0.0</td>\n",
       "      <td>0.0</td>\n",
       "      <td>1.0</td>\n",
       "    </tr>\n",
       "    <tr>\n",
       "      <th>sun</th>\n",
       "      <td>388.0</td>\n",
       "      <td>0.082474</td>\n",
       "      <td>0.275441</td>\n",
       "      <td>0.0</td>\n",
       "      <td>0.00</td>\n",
       "      <td>0.0</td>\n",
       "      <td>0.0</td>\n",
       "      <td>1.0</td>\n",
       "    </tr>\n",
       "    <tr>\n",
       "      <th>refill liters</th>\n",
       "      <td>13.0</td>\n",
       "      <td>37.115385</td>\n",
       "      <td>8.587282</td>\n",
       "      <td>10.0</td>\n",
       "      <td>37.60</td>\n",
       "      <td>38.0</td>\n",
       "      <td>39.0</td>\n",
       "      <td>45.0</td>\n",
       "    </tr>\n",
       "  </tbody>\n",
       "</table>\n",
       "</div>"
      ],
      "text/plain": [
       "               count       mean        std   min    25%   50%   75%    max\n",
       "distance       388.0  19.652835  22.667837   1.3  11.80  14.6  19.0  216.1\n",
       "consume        388.0   4.912371   1.033172   3.3   4.30   4.7   5.3   12.2\n",
       "speed          388.0  41.927835  13.598524  14.0  32.75  40.5  50.0   90.0\n",
       "temp_inside    376.0  21.929521   1.010455  19.0  21.50  22.0  22.5   25.5\n",
       "temp_outside   388.0  11.358247   6.991542  -5.0   7.00  10.0  16.0   31.0\n",
       "AC             388.0   0.077320   0.267443   0.0   0.00   0.0   0.0    1.0\n",
       "rain           388.0   0.123711   0.329677   0.0   0.00   0.0   0.0    1.0\n",
       "sun            388.0   0.082474   0.275441   0.0   0.00   0.0   0.0    1.0\n",
       "refill liters   13.0  37.115385   8.587282  10.0  37.60  38.0  39.0   45.0"
      ]
     },
     "execution_count": 14,
     "metadata": {},
     "output_type": "execute_result"
    }
   ],
   "source": [
    "meas1.describe().T"
   ]
  },
  {
   "cell_type": "code",
   "execution_count": 15,
   "id": "9192b6b8",
   "metadata": {},
   "outputs": [
    {
     "data": {
      "text/html": [
       "<div>\n",
       "<style scoped>\n",
       "    .dataframe tbody tr th:only-of-type {\n",
       "        vertical-align: middle;\n",
       "    }\n",
       "\n",
       "    .dataframe tbody tr th {\n",
       "        vertical-align: top;\n",
       "    }\n",
       "\n",
       "    .dataframe thead th {\n",
       "        text-align: right;\n",
       "    }\n",
       "</style>\n",
       "<table border=\"1\" class=\"dataframe\">\n",
       "  <thead>\n",
       "    <tr style=\"text-align: right;\">\n",
       "      <th></th>\n",
       "      <th>count</th>\n",
       "      <th>mean</th>\n",
       "      <th>std</th>\n",
       "      <th>min</th>\n",
       "      <th>25%</th>\n",
       "      <th>50%</th>\n",
       "      <th>75%</th>\n",
       "      <th>max</th>\n",
       "    </tr>\n",
       "  </thead>\n",
       "  <tbody>\n",
       "    <tr>\n",
       "      <th>distance</th>\n",
       "      <td>388.0</td>\n",
       "      <td>19.652835</td>\n",
       "      <td>22.667837</td>\n",
       "      <td>1.3</td>\n",
       "      <td>11.80</td>\n",
       "      <td>14.6</td>\n",
       "      <td>19.0</td>\n",
       "      <td>216.1</td>\n",
       "    </tr>\n",
       "    <tr>\n",
       "      <th>consume</th>\n",
       "      <td>388.0</td>\n",
       "      <td>4.912371</td>\n",
       "      <td>1.033172</td>\n",
       "      <td>3.3</td>\n",
       "      <td>4.30</td>\n",
       "      <td>4.7</td>\n",
       "      <td>5.3</td>\n",
       "      <td>12.2</td>\n",
       "    </tr>\n",
       "    <tr>\n",
       "      <th>speed</th>\n",
       "      <td>388.0</td>\n",
       "      <td>41.927835</td>\n",
       "      <td>13.598524</td>\n",
       "      <td>14.0</td>\n",
       "      <td>32.75</td>\n",
       "      <td>40.5</td>\n",
       "      <td>50.0</td>\n",
       "      <td>90.0</td>\n",
       "    </tr>\n",
       "    <tr>\n",
       "      <th>temp_inside</th>\n",
       "      <td>376.0</td>\n",
       "      <td>21.929521</td>\n",
       "      <td>1.010455</td>\n",
       "      <td>19.0</td>\n",
       "      <td>21.50</td>\n",
       "      <td>22.0</td>\n",
       "      <td>22.5</td>\n",
       "      <td>25.5</td>\n",
       "    </tr>\n",
       "    <tr>\n",
       "      <th>temp_outside</th>\n",
       "      <td>388.0</td>\n",
       "      <td>11.358247</td>\n",
       "      <td>6.991542</td>\n",
       "      <td>-5.0</td>\n",
       "      <td>7.00</td>\n",
       "      <td>10.0</td>\n",
       "      <td>16.0</td>\n",
       "      <td>31.0</td>\n",
       "    </tr>\n",
       "    <tr>\n",
       "      <th>AC</th>\n",
       "      <td>388.0</td>\n",
       "      <td>0.077320</td>\n",
       "      <td>0.267443</td>\n",
       "      <td>0.0</td>\n",
       "      <td>0.00</td>\n",
       "      <td>0.0</td>\n",
       "      <td>0.0</td>\n",
       "      <td>1.0</td>\n",
       "    </tr>\n",
       "    <tr>\n",
       "      <th>rain</th>\n",
       "      <td>388.0</td>\n",
       "      <td>0.123711</td>\n",
       "      <td>0.329677</td>\n",
       "      <td>0.0</td>\n",
       "      <td>0.00</td>\n",
       "      <td>0.0</td>\n",
       "      <td>0.0</td>\n",
       "      <td>1.0</td>\n",
       "    </tr>\n",
       "    <tr>\n",
       "      <th>sun</th>\n",
       "      <td>388.0</td>\n",
       "      <td>0.082474</td>\n",
       "      <td>0.275441</td>\n",
       "      <td>0.0</td>\n",
       "      <td>0.00</td>\n",
       "      <td>0.0</td>\n",
       "      <td>0.0</td>\n",
       "      <td>1.0</td>\n",
       "    </tr>\n",
       "    <tr>\n",
       "      <th>refill liters</th>\n",
       "      <td>13.0</td>\n",
       "      <td>37.115385</td>\n",
       "      <td>8.587282</td>\n",
       "      <td>10.0</td>\n",
       "      <td>37.60</td>\n",
       "      <td>38.0</td>\n",
       "      <td>39.0</td>\n",
       "      <td>45.0</td>\n",
       "    </tr>\n",
       "  </tbody>\n",
       "</table>\n",
       "</div>"
      ],
      "text/plain": [
       "               count       mean        std   min    25%   50%   75%    max\n",
       "distance       388.0  19.652835  22.667837   1.3  11.80  14.6  19.0  216.1\n",
       "consume        388.0   4.912371   1.033172   3.3   4.30   4.7   5.3   12.2\n",
       "speed          388.0  41.927835  13.598524  14.0  32.75  40.5  50.0   90.0\n",
       "temp_inside    376.0  21.929521   1.010455  19.0  21.50  22.0  22.5   25.5\n",
       "temp_outside   388.0  11.358247   6.991542  -5.0   7.00  10.0  16.0   31.0\n",
       "AC             388.0   0.077320   0.267443   0.0   0.00   0.0   0.0    1.0\n",
       "rain           388.0   0.123711   0.329677   0.0   0.00   0.0   0.0    1.0\n",
       "sun            388.0   0.082474   0.275441   0.0   0.00   0.0   0.0    1.0\n",
       "refill liters   13.0  37.115385   8.587282  10.0  37.60  38.0  39.0   45.0"
      ]
     },
     "execution_count": 15,
     "metadata": {},
     "output_type": "execute_result"
    }
   ],
   "source": [
    "meas2.describe().T"
   ]
  },
  {
   "cell_type": "code",
   "execution_count": null,
   "id": "cef28ee8",
   "metadata": {},
   "outputs": [],
   "source": [
    "#The files are identical, so I'll go ahead with just meas1. "
   ]
  },
  {
   "cell_type": "markdown",
   "id": "f160d400",
   "metadata": {},
   "source": [
    "# Now let's look at the content in more details"
   ]
  },
  {
   "cell_type": "code",
   "execution_count": 16,
   "id": "bc56c590",
   "metadata": {},
   "outputs": [],
   "source": [
    "data = meas1"
   ]
  },
  {
   "cell_type": "code",
   "execution_count": 17,
   "id": "7f53ee81",
   "metadata": {},
   "outputs": [
    {
     "data": {
      "text/plain": [
       "rain                  32\n",
       "sun                   27\n",
       "AC rain                9\n",
       "ac                     8\n",
       "AC                     6\n",
       "snow                   3\n",
       "sun ac                 3\n",
       "AC snow                1\n",
       "half rain half sun     1\n",
       "AC sun                 1\n",
       "AC Sun                 1\n",
       "ac rain                1\n",
       "Name: specials, dtype: int64"
      ]
     },
     "execution_count": 17,
     "metadata": {},
     "output_type": "execute_result"
    }
   ],
   "source": [
    "data['specials'].value_counts()"
   ]
  },
  {
   "cell_type": "code",
   "execution_count": 19,
   "id": "ebf3bd18",
   "metadata": {},
   "outputs": [
    {
     "data": {
      "text/plain": [
       "45.0    2\n",
       "37.7    2\n",
       "39.0    2\n",
       "37.6    1\n",
       "38.0    1\n",
       "38.3    1\n",
       "10.0    1\n",
       "41.0    1\n",
       "37.0    1\n",
       "37.2    1\n",
       "Name: refill liters, dtype: int64"
      ]
     },
     "execution_count": 19,
     "metadata": {},
     "output_type": "execute_result"
    }
   ],
   "source": [
    "data['refill liters'].value_counts()"
   ]
  },
  {
   "cell_type": "code",
   "execution_count": 20,
   "id": "c8b66114",
   "metadata": {},
   "outputs": [
    {
     "data": {
      "text/plain": [
       "SP98    8\n",
       "E10     5\n",
       "Name: refill gas, dtype: int64"
      ]
     },
     "execution_count": 20,
     "metadata": {},
     "output_type": "execute_result"
    }
   ],
   "source": [
    "data['refill gas'].value_counts()"
   ]
  },
  {
   "cell_type": "code",
   "execution_count": 21,
   "id": "88104dfe",
   "metadata": {},
   "outputs": [
    {
     "data": {
      "text/plain": [
       "SP98    228\n",
       "E10     160\n",
       "Name: gas_type, dtype: int64"
      ]
     },
     "execution_count": 21,
     "metadata": {},
     "output_type": "execute_result"
    }
   ],
   "source": [
    "data['gas_type'].value_counts()"
   ]
  },
  {
   "cell_type": "code",
   "execution_count": 22,
   "id": "78d8191d",
   "metadata": {},
   "outputs": [
    {
     "data": {
      "text/plain": [
       "0    358\n",
       "1     30\n",
       "Name: AC, dtype: int64"
      ]
     },
     "execution_count": 22,
     "metadata": {},
     "output_type": "execute_result"
    }
   ],
   "source": [
    "data['AC'].value_counts()"
   ]
  },
  {
   "cell_type": "code",
   "execution_count": 23,
   "id": "a9f2e37a",
   "metadata": {},
   "outputs": [
    {
     "data": {
      "text/plain": [
       "0    340\n",
       "1     48\n",
       "Name: rain, dtype: int64"
      ]
     },
     "execution_count": 23,
     "metadata": {},
     "output_type": "execute_result"
    }
   ],
   "source": [
    "data['rain'].value_counts()"
   ]
  },
  {
   "cell_type": "code",
   "execution_count": 24,
   "id": "213b6bd9",
   "metadata": {},
   "outputs": [
    {
     "data": {
      "text/plain": [
       "0    356\n",
       "1     32\n",
       "Name: sun, dtype: int64"
      ]
     },
     "execution_count": 24,
     "metadata": {},
     "output_type": "execute_result"
    }
   ],
   "source": [
    "data['sun'].value_counts()"
   ]
  },
  {
   "cell_type": "code",
   "execution_count": 25,
   "id": "b541594e",
   "metadata": {},
   "outputs": [],
   "source": [
    "data['AC'] = data['AC'].astype(bool)\n",
    "data['rain'] = data['rain'].astype(bool)\n",
    "data['sun'] = data['sun'].astype(bool)"
   ]
  },
  {
   "cell_type": "code",
   "execution_count": 26,
   "id": "5727755a",
   "metadata": {},
   "outputs": [
    {
     "data": {
      "text/plain": [
       "False    358\n",
       "True      30\n",
       "Name: AC, dtype: int64"
      ]
     },
     "execution_count": 26,
     "metadata": {},
     "output_type": "execute_result"
    }
   ],
   "source": [
    "#AC, Rain and Sun are actually boolean values, so converted them accordingly. "
   ]
  },
  {
   "cell_type": "code",
   "execution_count": null,
   "id": "736a00e3",
   "metadata": {},
   "outputs": [],
   "source": [
    "#We saw in the dataframe description that the temp_inside contains only a few NaNs and the rest of the data is not spread out a lot so will fill these NaNs with the mean temperature inside."
   ]
  },
  {
   "cell_type": "code",
   "execution_count": 31,
   "id": "11fcbd16",
   "metadata": {},
   "outputs": [
    {
     "data": {
      "image/png": "[encoded data removed]",
      "text/plain": [
       "<Figure size 360x360 with 1 Axes>"
      ]
     },
     "metadata": {
      "needs_background": "light"
     },
     "output_type": "display_data"
    }
   ],
   "source": [
    "sns.displot(data['temp_inside'])\n",
    "plt.show()"
   ]
  },
  {
   "cell_type": "code",
   "execution_count": 32,
   "id": "5f6b93bf",
   "metadata": {},
   "outputs": [],
   "source": [
    "data['temp_inside'] = data['temp_inside'].fillna(np.mean(data['temp_inside']))"
   ]
  },
  {
   "cell_type": "code",
   "execution_count": 33,
   "id": "0fd0302e",
   "metadata": {},
   "outputs": [
    {
     "data": {
      "image/png": "[encoded data removed]",
      "text/plain": [
       "<Figure size 360x360 with 1 Axes>"
      ]
     },
     "metadata": {
      "needs_background": "light"
     },
     "output_type": "display_data"
    }
   ],
   "source": [
    "sns.displot(data['temp_inside'])\n",
    "plt.show()"
   ]
  },
  {
   "cell_type": "code",
   "execution_count": null,
   "id": "e5b951c8",
   "metadata": {},
   "outputs": [],
   "source": [
    "#We can see after double checking the distribution that filling the NaNs has not skewed the data much. "
   ]
  },
  {
   "cell_type": "code",
   "execution_count": null,
   "id": "f2d98c94",
   "metadata": {},
   "outputs": [],
   "source": [
    "#Now we need to deal with the \"specials\""
   ]
  },
  {
   "cell_type": "code",
   "execution_count": 34,
   "id": "4f551092",
   "metadata": {},
   "outputs": [
    {
     "data": {
      "text/plain": [
       "rain                  32\n",
       "sun                   27\n",
       "AC rain                9\n",
       "ac                     8\n",
       "AC                     6\n",
       "snow                   3\n",
       "sun ac                 3\n",
       "AC snow                1\n",
       "half rain half sun     1\n",
       "AC sun                 1\n",
       "AC Sun                 1\n",
       "ac rain                1\n",
       "Name: specials, dtype: int64"
      ]
     },
     "execution_count": 34,
     "metadata": {},
     "output_type": "execute_result"
    }
   ],
   "source": [
    "data['specials'].value_counts()"
   ]
  },
  {
   "cell_type": "code",
   "execution_count": 37,
   "id": "b02a5ed3",
   "metadata": {
    "scrolled": true
   },
   "outputs": [
    {
     "data": {
      "text/plain": [
       "specials            AC   \n",
       "AC                  True      6\n",
       "AC Sun              True      1\n",
       "AC rain             True      9\n",
       "AC snow             True      1\n",
       "AC sun              True      1\n",
       "ac                  False     1\n",
       "                    True      7\n",
       "ac rain             True      1\n",
       "half rain half sun  False     1\n",
       "rain                False    32\n",
       "snow                False     3\n",
       "sun                 False    27\n",
       "sun ac              True      3\n",
       "Name: AC, dtype: int64"
      ]
     },
     "execution_count": 37,
     "metadata": {},
     "output_type": "execute_result"
    }
   ],
   "source": [
    "data.groupby([\"specials\", \"AC\"])[\"AC\"].count()"
   ]
  },
  {
   "cell_type": "code",
   "execution_count": null,
   "id": "d664ed63",
   "metadata": {},
   "outputs": [],
   "source": [
    "#We can see that all instances with \"AC\" in the specials has already been noted in the AC column, making it redundant."
   ]
  },
  {
   "cell_type": "code",
   "execution_count": 38,
   "id": "b8ad04b2",
   "metadata": {},
   "outputs": [
    {
     "data": {
      "text/plain": [
       "specials            rain \n",
       "AC                  False     6\n",
       "AC Sun              False     1\n",
       "AC rain             True      9\n",
       "AC snow             True      1\n",
       "AC sun              False     1\n",
       "ac                  False     8\n",
       "ac rain             True      1\n",
       "half rain half sun  True      1\n",
       "rain                True     32\n",
       "snow                True      3\n",
       "sun                 False    27\n",
       "sun ac              False     3\n",
       "Name: rain, dtype: int64"
      ]
     },
     "execution_count": 38,
     "metadata": {},
     "output_type": "execute_result"
    }
   ],
   "source": [
    "data.groupby([\"specials\", \"rain\"])[\"rain\"].count()"
   ]
  },
  {
   "cell_type": "code",
   "execution_count": 39,
   "id": "77b2cce0",
   "metadata": {},
   "outputs": [
    {
     "data": {
      "text/plain": [
       "specials            sun  \n",
       "AC                  False     6\n",
       "AC Sun              True      1\n",
       "AC rain             False     9\n",
       "AC snow             False     1\n",
       "AC sun              True      1\n",
       "ac                  False     8\n",
       "ac rain             False     1\n",
       "half rain half sun  False     1\n",
       "rain                False    32\n",
       "snow                False     3\n",
       "sun                 True     27\n",
       "sun ac              True      3\n",
       "Name: sun, dtype: int64"
      ]
     },
     "execution_count": 39,
     "metadata": {},
     "output_type": "execute_result"
    }
   ],
   "source": [
    "data.groupby([\"specials\", \"sun\"])[\"sun\"].count()"
   ]
  },
  {
   "cell_type": "code",
   "execution_count": null,
   "id": "6519b63f",
   "metadata": {},
   "outputs": [],
   "source": [
    "#Rain and Sun are also noted in the appropriate columns, leaving only the \"snow\" and \"AC Snow\" records somewhat mislabeled as rain.\n",
    "#there are only 4 of those records so it is OK to have them qualified as rain. \n",
    "#I will therefore delete the specials column as it doesn't add any value. "
   ]
  },
  {
   "cell_type": "code",
   "execution_count": 40,
   "id": "c3acf238",
   "metadata": {},
   "outputs": [],
   "source": [
    "data = data.drop('specials',axis = 1)"
   ]
  },
  {
   "cell_type": "code",
   "execution_count": 41,
   "id": "3d203571",
   "metadata": {},
   "outputs": [
    {
     "data": {
      "text/html": [
       "<div>\n",
       "<style scoped>\n",
       "    .dataframe tbody tr th:only-of-type {\n",
       "        vertical-align: middle;\n",
       "    }\n",
       "\n",
       "    .dataframe tbody tr th {\n",
       "        vertical-align: top;\n",
       "    }\n",
       "\n",
       "    .dataframe thead th {\n",
       "        text-align: right;\n",
       "    }\n",
       "</style>\n",
       "<table border=\"1\" class=\"dataframe\">\n",
       "  <thead>\n",
       "    <tr style=\"text-align: right;\">\n",
       "      <th></th>\n",
       "      <th>distance</th>\n",
       "      <th>consume</th>\n",
       "      <th>speed</th>\n",
       "      <th>temp_inside</th>\n",
       "      <th>temp_outside</th>\n",
       "      <th>gas_type</th>\n",
       "      <th>AC</th>\n",
       "      <th>rain</th>\n",
       "      <th>sun</th>\n",
       "      <th>refill liters</th>\n",
       "      <th>refill gas</th>\n",
       "    </tr>\n",
       "  </thead>\n",
       "  <tbody>\n",
       "    <tr>\n",
       "      <th>0</th>\n",
       "      <td>28.0</td>\n",
       "      <td>5.0</td>\n",
       "      <td>26</td>\n",
       "      <td>21.5</td>\n",
       "      <td>12</td>\n",
       "      <td>E10</td>\n",
       "      <td>False</td>\n",
       "      <td>False</td>\n",
       "      <td>False</td>\n",
       "      <td>45.0</td>\n",
       "      <td>E10</td>\n",
       "    </tr>\n",
       "    <tr>\n",
       "      <th>1</th>\n",
       "      <td>12.0</td>\n",
       "      <td>4.2</td>\n",
       "      <td>30</td>\n",
       "      <td>21.5</td>\n",
       "      <td>13</td>\n",
       "      <td>E10</td>\n",
       "      <td>False</td>\n",
       "      <td>False</td>\n",
       "      <td>False</td>\n",
       "      <td>NaN</td>\n",
       "      <td>NaN</td>\n",
       "    </tr>\n",
       "    <tr>\n",
       "      <th>2</th>\n",
       "      <td>11.2</td>\n",
       "      <td>5.5</td>\n",
       "      <td>38</td>\n",
       "      <td>21.5</td>\n",
       "      <td>15</td>\n",
       "      <td>E10</td>\n",
       "      <td>False</td>\n",
       "      <td>False</td>\n",
       "      <td>False</td>\n",
       "      <td>NaN</td>\n",
       "      <td>NaN</td>\n",
       "    </tr>\n",
       "    <tr>\n",
       "      <th>3</th>\n",
       "      <td>12.9</td>\n",
       "      <td>3.9</td>\n",
       "      <td>36</td>\n",
       "      <td>21.5</td>\n",
       "      <td>14</td>\n",
       "      <td>E10</td>\n",
       "      <td>False</td>\n",
       "      <td>False</td>\n",
       "      <td>False</td>\n",
       "      <td>NaN</td>\n",
       "      <td>NaN</td>\n",
       "    </tr>\n",
       "    <tr>\n",
       "      <th>4</th>\n",
       "      <td>18.5</td>\n",
       "      <td>4.5</td>\n",
       "      <td>46</td>\n",
       "      <td>21.5</td>\n",
       "      <td>15</td>\n",
       "      <td>E10</td>\n",
       "      <td>False</td>\n",
       "      <td>False</td>\n",
       "      <td>False</td>\n",
       "      <td>NaN</td>\n",
       "      <td>NaN</td>\n",
       "    </tr>\n",
       "  </tbody>\n",
       "</table>\n",
       "</div>"
      ],
      "text/plain": [
       "   distance  consume  speed  temp_inside  temp_outside gas_type     AC   rain  \\\n",
       "0      28.0      5.0     26         21.5            12      E10  False  False   \n",
       "1      12.0      4.2     30         21.5            13      E10  False  False   \n",
       "2      11.2      5.5     38         21.5            15      E10  False  False   \n",
       "3      12.9      3.9     36         21.5            14      E10  False  False   \n",
       "4      18.5      4.5     46         21.5            15      E10  False  False   \n",
       "\n",
       "     sun  refill liters refill gas  \n",
       "0  False           45.0        E10  \n",
       "1  False            NaN        NaN  \n",
       "2  False            NaN        NaN  \n",
       "3  False            NaN        NaN  \n",
       "4  False            NaN        NaN  "
      ]
     },
     "execution_count": 41,
     "metadata": {},
     "output_type": "execute_result"
    }
   ],
   "source": [
    "data.head()"
   ]
  },
  {
   "cell_type": "code",
   "execution_count": null,
   "id": "478ad2f9",
   "metadata": {},
   "outputs": [],
   "source": [
    "#Now we'll deal with the refill liters (replacing the NaN by 0 as there were clearly no gas refilled)\n",
    "#And for refill gas we'll replace the NaNs with False as no gas was refilled. "
   ]
  },
  {
   "cell_type": "code",
   "execution_count": 45,
   "id": "f064a63b",
   "metadata": {},
   "outputs": [],
   "source": [
    "data['refill liters'] = data['refill liters'].fillna('0').astype('float')"
   ]
  },
  {
   "cell_type": "code",
   "execution_count": 43,
   "id": "e1353e31",
   "metadata": {},
   "outputs": [],
   "source": [
    "data['refill gas'] = data['refill gas'].fillna('False')"
   ]
  },
  {
   "cell_type": "code",
   "execution_count": 46,
   "id": "dca88689",
   "metadata": {},
   "outputs": [
    {
     "data": {
      "text/plain": [
       "distance         float64\n",
       "consume          float64\n",
       "speed              int64\n",
       "temp_inside      float64\n",
       "temp_outside       int64\n",
       "gas_type          object\n",
       "AC                  bool\n",
       "rain                bool\n",
       "sun                 bool\n",
       "refill liters    float64\n",
       "refill gas        object\n",
       "dtype: object"
      ]
     },
     "execution_count": 46,
     "metadata": {},
     "output_type": "execute_result"
    }
   ],
   "source": [
    "data.dtypes"
   ]
  },
  {
   "cell_type": "code",
   "execution_count": 47,
   "id": "ee4587a8",
   "metadata": {},
   "outputs": [
    {
     "data": {
      "text/plain": [
       "distance         0.0\n",
       "consume          0.0\n",
       "speed            0.0\n",
       "temp_inside      0.0\n",
       "temp_outside     0.0\n",
       "gas_type         0.0\n",
       "AC               0.0\n",
       "rain             0.0\n",
       "sun              0.0\n",
       "refill liters    0.0\n",
       "refill gas       0.0\n",
       "dtype: float64"
      ]
     },
     "execution_count": 47,
     "metadata": {},
     "output_type": "execute_result"
    }
   ],
   "source": [
    "data.isnull().sum() * 100 / len(data)"
   ]
  },
  {
   "cell_type": "code",
   "execution_count": null,
   "id": "a2703bd1",
   "metadata": {},
   "outputs": [],
   "source": [
    "#We don't have any NaNs left in the dataframe."
   ]
  },
  {
   "cell_type": "code",
   "execution_count": null,
   "id": "926152bf",
   "metadata": {},
   "outputs": [],
   "source": [
    "#Now let's look at the comsumption figures, it's hard to make sense of them... "
   ]
  },
  {
   "cell_type": "code",
   "execution_count": 55,
   "id": "0b333966",
   "metadata": {},
   "outputs": [
    {
     "data": {
      "text/plain": [
       "gas_type\n",
       "E10     4.931250\n",
       "SP98    4.899123\n",
       "Name: consume, dtype: float64"
      ]
     },
     "execution_count": 55,
     "metadata": {},
     "output_type": "execute_result"
    }
   ],
   "source": [
    "data.groupby('gas_type')['consume'].mean()"
   ]
  },
  {
   "cell_type": "code",
   "execution_count": 52,
   "id": "6dc80329",
   "metadata": {
    "scrolled": true
   },
   "outputs": [
    {
     "data": {
      "text/plain": [
       "gas_type  AC   \n",
       "E10       False    4.922876\n",
       "          True     5.114286\n",
       "SP98      False    4.854146\n",
       "          True     5.300000\n",
       "Name: consume, dtype: float64"
      ]
     },
     "execution_count": 52,
     "metadata": {},
     "output_type": "execute_result"
    }
   ],
   "source": [
    "data.groupby(['gas_type','AC'])['consume'].mean()"
   ]
  },
  {
   "cell_type": "code",
   "execution_count": 53,
   "id": "a049eee9",
   "metadata": {},
   "outputs": [
    {
     "data": {
      "text/plain": [
       "gas_type  rain \n",
       "E10       False    4.856944\n",
       "          True     5.600000\n",
       "SP98      False    4.786224\n",
       "          True     5.590625\n",
       "Name: consume, dtype: float64"
      ]
     },
     "execution_count": 53,
     "metadata": {},
     "output_type": "execute_result"
    }
   ],
   "source": [
    "data.groupby(['gas_type','rain'])['consume'].mean()"
   ]
  },
  {
   "cell_type": "code",
   "execution_count": 54,
   "id": "70c22328",
   "metadata": {},
   "outputs": [
    {
     "data": {
      "text/plain": [
       "gas_type  sun  \n",
       "E10       False    4.972297\n",
       "          True     4.425000\n",
       "SP98      False    4.960096\n",
       "          True     4.265000\n",
       "Name: consume, dtype: float64"
      ]
     },
     "execution_count": 54,
     "metadata": {},
     "output_type": "execute_result"
    }
   ],
   "source": [
    "data.groupby(['gas_type','sun'])['consume'].mean()"
   ]
  },
  {
   "cell_type": "code",
   "execution_count": 57,
   "id": "1f591d77",
   "metadata": {},
   "outputs": [],
   "source": [
    "data_E10 = data.loc[data['gas_type'] == ('E10')]"
   ]
  },
  {
   "cell_type": "code",
   "execution_count": 58,
   "id": "9f5056f6",
   "metadata": {},
   "outputs": [
    {
     "data": {
      "image/png": "[encoded data removed]",
      "text/plain": [
       "<Figure size 360x360 with 1 Axes>"
      ]
     },
     "metadata": {
      "needs_background": "light"
     },
     "output_type": "display_data"
    }
   ],
   "source": [
    "sns.displot(data_E10['consume'])\n",
    "plt.show()"
   ]
  },
  {
   "cell_type": "code",
   "execution_count": 59,
   "id": "eca13b12",
   "metadata": {},
   "outputs": [],
   "source": [
    "data_SP98 = data.loc[data['gas_type'] == ('SP98')]"
   ]
  },
  {
   "cell_type": "code",
   "execution_count": 60,
   "id": "05c6b4fe",
   "metadata": {},
   "outputs": [
    {
     "data": {
      "image/png": "[encoded data removed]",
      "text/plain": [
       "<Figure size 360x360 with 1 Axes>"
      ]
     },
     "metadata": {
      "needs_background": "light"
     },
     "output_type": "display_data"
    }
   ],
   "source": [
    "sns.displot(data_SP98['consume'])\n",
    "plt.show()"
   ]
  },
  {
   "cell_type": "code",
   "execution_count": null,
   "id": "f681f6d3",
   "metadata": {},
   "outputs": [],
   "source": [
    "#will do some visualizations in tableau \n",
    "#count the refill_liters\n",
    "#check gas prices and extrapolate costs\n",
    "#relate that to kilometers driven (how???)\n",
    "#Used 1h45, only have 1h15 mins left!!!  "
   ]
  },
  {
   "cell_type": "code",
   "execution_count": null,
   "id": "4158872a",
   "metadata": {},
   "outputs": [],
   "source": []
  },
  {
   "cell_type": "code",
   "execution_count": null,
   "id": "1a395d9e",
   "metadata": {},
   "outputs": [],
   "source": []
  },
  {
   "cell_type": "code",
   "execution_count": null,
   "id": "0199547a",
   "metadata": {},
   "outputs": [],
   "source": []
  }
 ],
 "metadata": {
  "kernelspec": {
   "display_name": "Python 3 (ipykernel)",
   "language": "python",
   "name": "python3"
  },
  "language_info": {
   "codemirror_mode": {
    "name": "ipython",
    "version": 3
   },
   "file_extension": ".py",
   "mimetype": "text/x-python",
   "name": "python",
   "nbconvert_exporter": "python",
   "pygments_lexer": "ipython3",
   "version": "3.9.7"
  },
  "toc": {
   "base_numbering": 1,
   "nav_menu": {},
   "number_sections": true,
   "sideBar": true,
   "skip_h1_title": false,
   "title_cell": "Table of Contents",
   "title_sidebar": "Contents",
   "toc_cell": false,
   "toc_position": {},
   "toc_section_display": true,
   "toc_window_display": false
  },
  "varInspector": {
   "cols": {
    "lenName": 16,
    "lenType": 16,
    "lenVar": 40
   },
   "kernels_config": {
    "python": {
     "delete_cmd_postfix": "",
     "delete_cmd_prefix": "del ",
     "library": "var_list.py",
     "varRefreshCmd": "print(var_dic_list())"
    },
    "r": {
     "delete_cmd_postfix": ") ",
     "delete_cmd_prefix": "rm(",
     "library": "var_list.r",
     "varRefreshCmd": "cat(var_dic_list()) "
    }
   },
   "types_to_exclude": [
    "module",
    "function",
    "builtin_function_or_method",
    "instance",
    "_Feature"
   ],
   "window_display": false
  }
 },
 "nbformat": 4,
 "nbformat_minor": 5
}
